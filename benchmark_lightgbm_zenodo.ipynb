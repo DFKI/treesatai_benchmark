{
 "cells": [
  {
   "cell_type": "markdown",
   "id": "b09e92b7",
   "metadata": {},
   "source": [
    "## imports"
   ]
  },
  {
   "cell_type": "code",
   "execution_count": 3,
   "id": "d540c53d",
   "metadata": {
    "ExecuteTime": {
     "end_time": "2022-07-05T15:29:40.004372Z",
     "start_time": "2022-07-05T15:29:36.659994Z"
    }
   },
   "outputs": [],
   "source": [
    "import math\n",
    "import os\n",
    "import sys\n",
    "\n",
    "import collections\n",
    "from copy import copy, deepcopy\n",
    "import json\n",
    "from collections import Counter\n",
    "from io import BytesIO\n",
    "import zipfile\n",
    "from glob import glob\n",
    "import shelve\n",
    "\n",
    "from tqdm.notebook import tqdm\n",
    "from IPython.display import display\n",
    "import lightgbm as ltb\n",
    "import numpy as np\n",
    "import pandas as pd\n",
    "pd.set_option(\"display.precision\", 4)\n",
    "import rasterio\n",
    "from rasterio.io import MemoryFile\n",
    "import torch\n",
    "from torch.utils.data import Dataset\n",
    "import torchvision.transforms as transforms\n",
    "try:\n",
    "    import torchvision.transforms.F as F\n",
    "except:\n",
    "    import torchvision.transforms.functional as F\n",
    "\n",
    "from matplotlib import pyplot as plt\n",
    "%matplotlib inline\n",
    "\n",
    "import joblib\n",
    "from sklearn import datasets\n",
    "from sklearn.metrics import f1_score, precision_score, recall_score, accuracy_score, average_precision_score, classification_report, confusion_matrix, ConfusionMatrixDisplay\n",
    "\n",
    "from sklearn.multiclass import OneVsRestClassifier\n",
    "from sklearn.preprocessing import StandardScaler\n",
    "\n",
    "from datadings.reader import ZipFileReader, MsgpackReader\n",
    "from datadings.writer import FileWriter\n"
   ]
  },
  {
   "cell_type": "code",
   "execution_count": 2,
   "id": "cf09a056",
   "metadata": {
    "ExecuteTime": {
     "end_time": "2022-07-04T19:31:00.419745Z",
     "start_time": "2022-07-04T19:30:46.905358Z"
    }
   },
   "outputs": [
    {
     "name": "stdout",
     "output_type": "stream",
     "text": [
      "/bin/bash: warning: setlocale: LC_ALL: cannot change locale (en_US.UTF-8)\n",
      "Collecting scikit-multilearn\n",
      "  Downloading scikit_multilearn-0.2.0-py3-none-any.whl (89 kB)\n",
      "\u001b[K     |████████████████████████████████| 89 kB 12.1 MB/s eta 0:00:01\n",
      "\u001b[?25hInstalling collected packages: scikit-multilearn\n",
      "Successfully installed scikit-multilearn-0.2.0\n",
      "/bin/bash: warning: setlocale: LC_ALL: cannot change locale (en_US.UTF-8)\n",
      "Collecting pickle-mixin\n",
      "  Downloading pickle-mixin-1.0.2.tar.gz (5.1 kB)\n",
      "Building wheels for collected packages: pickle-mixin\n",
      "  Building wheel for pickle-mixin (setup.py) ... \u001b[?25ldone\n",
      "\u001b[?25h  Created wheel for pickle-mixin: filename=pickle_mixin-1.0.2-py3-none-any.whl size=5998 sha256=81cf0b41da700922e84b0791b811f3ff07923989a2f96a4137c59f49fe71f04a\n",
      "  Stored in directory: /root/.cache/pip/wheels/58/c6/8b/061bd4edc8cea2b2235758c3e50473d08499236fbfdd21e6b3\n",
      "Successfully built pickle-mixin\n",
      "Installing collected packages: pickle-mixin\n",
      "Successfully installed pickle-mixin-1.0.2\n",
      "/bin/bash: warning: setlocale: LC_ALL: cannot change locale (en_US.UTF-8)\n",
      "Collecting flaml\n",
      "  Downloading FLAML-1.0.7-py3-none-any.whl (196 kB)\n",
      "\u001b[K     |████████████████████████████████| 196 kB 12.0 MB/s eta 0:00:01\n",
      "\u001b[?25hRequirement already satisfied: pandas>=1.1.4 in /usr/local/lib/python3.9/dist-packages (from flaml) (1.4.2)\n",
      "Requirement already satisfied: scipy>=1.4.1 in /usr/local/lib/python3.9/dist-packages (from flaml) (1.8.0)\n",
      "Requirement already satisfied: lightgbm>=2.3.1 in /usr/local/lib/python3.9/dist-packages (from flaml) (3.3.2)\n",
      "Collecting xgboost<=1.3.3,>=0.90\n",
      "  Downloading xgboost-1.3.3-py3-none-manylinux2010_x86_64.whl (157.5 MB)\n",
      "\u001b[K     |████████████████████████████████| 157.5 MB 335 kB/s  eta 0:00:01\n",
      "\u001b[?25hRequirement already satisfied: NumPy>=1.17.0rc1 in /usr/lib/python3/dist-packages (from flaml) (1.19.5)\n",
      "Requirement already satisfied: scikit-learn>=0.24 in /usr/local/lib/python3.9/dist-packages (from flaml) (1.0.2)\n",
      "Requirement already satisfied: wheel in /usr/lib/python3/dist-packages (from lightgbm>=2.3.1->flaml) (0.34.2)\n",
      "Requirement already satisfied: pytz>=2020.1 in /usr/local/lib/python3.9/dist-packages (from pandas>=1.1.4->flaml) (2022.1)\n",
      "Requirement already satisfied: python-dateutil>=2.8.1 in /usr/local/lib/python3.9/dist-packages (from pandas>=1.1.4->flaml) (2.8.2)\n",
      "Requirement already satisfied: six>=1.5 in /usr/lib/python3/dist-packages (from python-dateutil>=2.8.1->pandas>=1.1.4->flaml) (1.16.0)\n",
      "Requirement already satisfied: threadpoolctl>=2.0.0 in /usr/local/lib/python3.9/dist-packages (from scikit-learn>=0.24->flaml) (3.1.0)\n",
      "Requirement already satisfied: joblib>=0.11 in /usr/local/lib/python3.9/dist-packages (from scikit-learn>=0.24->flaml) (1.1.0)\n",
      "Installing collected packages: xgboost, flaml\n",
      "Successfully installed flaml-1.0.7 xgboost-1.3.3\n"
     ]
    }
   ],
   "source": [
    "!pip install scikit-multilearn\n",
    "from skmultilearn.model_selection import IterativeStratification\n",
    "\n",
    "!pip install pickle-mixin\n",
    "import pickle\n",
    "\n",
    "#!pip install flaml[notebook]\n",
    "!pip install flaml\n",
    "\n",
    "import warnings\n",
    "warnings.filterwarnings('ignore', message='pandas.Int64Index', category=FutureWarning)\n",
    "os.environ[\"PYTHONWARNINGS\"] = \"ignore:pandas.Int64:FutureWarning\"\n",
    "\n",
    "from flaml import AutoML"
   ]
  },
  {
   "cell_type": "markdown",
   "id": "36cf2204",
   "metadata": {},
   "source": [
    "## global variables"
   ]
  },
  {
   "cell_type": "code",
   "execution_count": 5,
   "id": "7ab05df8",
   "metadata": {
    "ExecuteTime": {
     "end_time": "2022-07-04T19:31:00.743803Z",
     "start_time": "2022-07-04T19:31:00.731670Z"
    }
   },
   "outputs": [],
   "source": [
    "# BASE_PATH must be the directory with the files downloaded from Zenodo.\n",
    "# For instance, '/home/<username>/treesatai_benchmark_archive/zenodo/'.\n",
    "#\n",
    "# RESNET_WEIGHTS_FILE is the file containing the pre-trained ResNet18 weights used to extract features\n",
    "# that are fed to the LightGBM classifier. See section 3 of the paper for details. By default, it is\n",
    "# located in the same directory as this notebook file, but feel free to store it somewhere else and\n",
    "# update the path accordingly.\n",
    "\n",
    "BASE_PATH = '/path/to/treesatai_benchmark_archive/zenodo/' # this is an example; must be adapted\n",
    "LABELS_FILE = os.path.join(BASE_PATH, 'labels.zip/labels/TreeSatBA_v9_60m_multi_labels.json')\n",
    "RES_SENTINEL = '60m'                                       # resolution of the Sentinel (1 and 2) sensor\n",
    "\n",
    "TRAIN_FILENAMES = open(os.path.join(BASE_PATH, 'train_filenames.lst')).read().split()\n",
    "TEST_FILENAMES = open(os.path.join(BASE_PATH, 'test_filenames.lst')).read().split()\n",
    "RESNET_WEIGHTS_FILE = 'ResNet_PT_FT_Aerial3Bands_Norm_Imgnet_v9_100.pt'\n",
    "\n",
    "TIME_BUDGET = 30*60                                        # time for param tuning in seconds"
   ]
  },
  {
   "cell_type": "markdown",
   "id": "d0ac42d0",
   "metadata": {},
   "source": [
    "## loading data"
   ]
  },
  {
   "cell_type": "code",
   "execution_count": 4,
   "id": "e880b360",
   "metadata": {
    "ExecuteTime": {
     "end_time": "2022-07-04T19:31:00.729556Z",
     "start_time": "2022-07-04T19:31:00.437258Z"
    }
   },
   "outputs": [],
   "source": [
    "def read_multilabels(fn):\n",
    "    zfn,inner = fn.split('.zip/')\n",
    "    zfn = zfn + '.zip'\n",
    "    with zipfile.ZipFile(zfn) as z:\n",
    "        with z.open(inner) as f:\n",
    "            return json.load(f)\n",
    "multilabels_dict = read_multilabels(LABELS_FILE)\n",
    "\n",
    "# hack for missing file?!?\n",
    "#multilabels_dict['Betula_spec._4_324455_BI_NLF.tif'] = [['Betula', 1.0]]"
   ]
  },
  {
   "cell_type": "code",
   "execution_count": 6,
   "id": "b7200c24",
   "metadata": {
    "ExecuteTime": {
     "end_time": "2022-07-04T19:31:04.202942Z",
     "start_time": "2022-07-04T19:31:04.167150Z"
    }
   },
   "outputs": [
    {
     "data": {
      "text/plain": [
       "[('Quercus', 15524),\n",
       " ('Fagus', 14382),\n",
       " ('Picea', 14169),\n",
       " ('Pinus', 13748),\n",
       " ('Cleared', 7080),\n",
       " ('Larix', 6388),\n",
       " ('Pseudotsuga', 5754),\n",
       " ('Betula', 4346),\n",
       " ('Alnus', 4207),\n",
       " ('Acer', 3819),\n",
       " ('Fraxinus', 3378),\n",
       " ('Abies', 1616),\n",
       " ('Populus', 684),\n",
       " ('Prunus', 482),\n",
       " ('Tilia', 286)]"
      ]
     },
     "execution_count": 6,
     "metadata": {},
     "output_type": "execute_result"
    }
   ],
   "source": [
    "class_counts = Counter()\n",
    "for mls in multilabels_dict.values():\n",
    "    for ml, p in mls:\n",
    "        class_counts[ml] += 1\n",
    "class_counts.most_common()"
   ]
  },
  {
   "cell_type": "code",
   "execution_count": 7,
   "id": "c7c6721a",
   "metadata": {
    "ExecuteTime": {
     "end_time": "2022-07-04T19:31:04.747089Z",
     "start_time": "2022-07-04T19:31:04.742620Z"
    }
   },
   "outputs": [
    {
     "data": {
      "text/plain": [
       "['Abies',\n",
       " 'Acer',\n",
       " 'Alnus',\n",
       " 'Betula',\n",
       " 'Cleared',\n",
       " 'Fagus',\n",
       " 'Fraxinus',\n",
       " 'Larix',\n",
       " 'Picea',\n",
       " 'Pinus',\n",
       " 'Populus',\n",
       " 'Prunus',\n",
       " 'Pseudotsuga',\n",
       " 'Quercus',\n",
       " 'Tilia']"
      ]
     },
     "execution_count": 7,
     "metadata": {},
     "output_type": "execute_result"
    }
   ],
   "source": [
    "classes = sorted(class_counts)\n",
    "classes"
   ]
  },
  {
   "cell_type": "code",
   "execution_count": 8,
   "id": "7896caa5",
   "metadata": {
    "ExecuteTime": {
     "end_time": "2022-07-04T19:31:04.923868Z",
     "start_time": "2022-07-04T19:31:04.920174Z"
    }
   },
   "outputs": [
    {
     "data": {
      "text/plain": [
       "15"
      ]
     },
     "execution_count": 8,
     "metadata": {},
     "output_type": "execute_result"
    }
   ],
   "source": [
    "len(classes)"
   ]
  },
  {
   "cell_type": "code",
   "execution_count": 9,
   "id": "ece56d37",
   "metadata": {
    "ExecuteTime": {
     "end_time": "2022-07-04T19:31:05.111453Z",
     "start_time": "2022-07-04T19:31:05.109092Z"
    }
   },
   "outputs": [],
   "source": [
    "def convert_binary(labels):\n",
    "    vec = np.zeros(len(classes), dtype = np.uint8)\n",
    "    for lab, _ in labels:\n",
    "        # get index from original class list\n",
    "        idx = classes.index(lab)\n",
    "        vec[idx] = 1\n",
    "    return vec"
   ]
  },
  {
   "cell_type": "code",
   "execution_count": 10,
   "id": "c0a92e5f",
   "metadata": {
    "ExecuteTime": {
     "end_time": "2022-07-04T19:31:05.285610Z",
     "start_time": "2022-07-04T19:31:05.283679Z"
    }
   },
   "outputs": [],
   "source": [
    "def decode_images(sample):\n",
    "    sample['data'] = MemoryFile(sample['data']).open().read()\n",
    "    return sample"
   ]
  },
  {
   "cell_type": "code",
   "execution_count": 11,
   "id": "c0b67ce2",
   "metadata": {
    "ExecuteTime": {
     "end_time": "2022-07-04T19:31:05.441268Z",
     "start_time": "2022-07-04T19:31:05.436935Z"
    }
   },
   "outputs": [],
   "source": [
    "def initfun(sample):\n",
    "    key = sample['path'].rsplit('/', 1)[-1]\n",
    "    sample['key'] = key\n",
    "    sample['label'] = key.split('_', 1)[0]\n",
    "\n",
    "def _gen_from_zip_file(filename, pattern):\n",
    "    for sample in ZipFileReader(filename, pattern, initfun=initfun, numeric_labels=False):\n",
    "        \n",
    "        #sample['data'] = MemoryFile(sample['data']).open().read()\n",
    "        \n",
    "        key = sample['key']\n",
    "        try:\n",
    "            labels = multilabels_dict[key]\n",
    "            sample['multilabels'] = labels\n",
    "            sample['labelvec'] = convert_binary(labels)\n",
    "\n",
    "            yield sample\n",
    "        except KeyError:\n",
    "            print('WARNING: no entry for', key, 'in multilabels file')"
   ]
  },
  {
   "cell_type": "code",
   "execution_count": 12,
   "id": "02f9ed98",
   "metadata": {
    "ExecuteTime": {
     "end_time": "2022-07-04T19:31:05.612799Z",
     "start_time": "2022-07-04T19:31:05.609427Z"
    }
   },
   "outputs": [],
   "source": [
    "import multiprocessing as mp\n",
    "def gen_from_zip_files(filepat, inner_pattern):\n",
    "    with mp.Pool(16) as pool:\n",
    "        fns = sorted(glob(filepat))\n",
    "        for fn in fns:\n",
    "            for sample in pool.imap(decode_images, _gen_from_zip_file(fn, inner_pattern)):\n",
    "                yield sample"
   ]
  },
  {
   "cell_type": "code",
   "execution_count": 13,
   "id": "e52bf97a",
   "metadata": {
    "ExecuteTime": {
     "end_time": "2022-07-04T19:31:06.179767Z",
     "start_time": "2022-07-04T19:31:06.177380Z"
    }
   },
   "outputs": [],
   "source": [
    "fn_pats = (\n",
    "    (\"aerial\", os.path.join(BASE_PATH, 'aerial_*.zip'), '*.tif'),\n",
    "    (\"s1\", os.path.join(BASE_PATH, 's1.zip'), os.path.join('s1', RES_SENTINEL, '*.tif')),\n",
    "    (\"s2\", os.path.join(BASE_PATH, 's2.zip'), os.path.join('s2', RES_SENTINEL, '*.tif')),\n",
    ")"
   ]
  },
  {
   "cell_type": "code",
   "execution_count": 14,
   "id": "8e38b611",
   "metadata": {
    "ExecuteTime": {
     "end_time": "2022-07-04T19:31:06.264004Z",
     "start_time": "2022-07-04T19:31:06.251777Z"
    }
   },
   "outputs": [],
   "source": [
    "# converting input files into datadings msgpack format\n",
    "# useful for much faster reading in future, e.g., by iterating dataloaders (not keeping all in mem)\n",
    "# only has to be done once\n",
    "for name, fnpat, pat in fn_pats:\n",
    "    if os.path.exists(os.path.join(BASE_PATH, name + '.msgpack')):\n",
    "        continue\n",
    "    with FileWriter(os.path.join(BASE_PATH, name + '.msgpack'), overwrite=True) as writer:\n",
    "        for sample in gen_from_zip_files(fnpat, pat):\n",
    "            writer.write(sample)"
   ]
  },
  {
   "cell_type": "code",
   "execution_count": 15,
   "id": "80c361a7",
   "metadata": {
    "ExecuteTime": {
     "end_time": "2022-07-04T19:31:06.292773Z",
     "start_time": "2022-07-04T19:31:06.287681Z"
    }
   },
   "outputs": [
    {
     "data": {
      "text/plain": [
       "50382"
      ]
     },
     "execution_count": 15,
     "metadata": {},
     "output_type": "execute_result"
    }
   ],
   "source": [
    "len(multilabels_dict)"
   ]
  },
  {
   "cell_type": "code",
   "execution_count": 16,
   "id": "6ec78baf",
   "metadata": {
    "ExecuteTime": {
     "end_time": "2022-07-04T19:31:37.396426Z",
     "start_time": "2022-07-04T19:31:06.354531Z"
    }
   },
   "outputs": [
    {
     "data": {
      "application/vnd.jupyter.widget-view+json": {
       "model_id": "5e4b8c84f30740a0bbfe13fd96a5e221",
       "version_major": 2,
       "version_minor": 0
      },
      "text/plain": [
       "  0%|          | 0/50381 [00:00<?, ?it/s]"
      ]
     },
     "metadata": {},
     "output_type": "display_data"
    },
    {
     "data": {
      "text/plain": [
       "{'key': 'Tilia_spec._9_99911_WEFL_NLF.tif',\n",
       " 'label': 'Tilia',\n",
       " 'path': 'Tilia_spec._9_99911_WEFL_NLF.tif',\n",
       " '_additional_info': [],\n",
       " 'data': array([[[213, 214, 205, ..., 213, 215, 207],\n",
       "         [210, 188, 205, ..., 199, 209, 194],\n",
       "         [205, 171, 195, ..., 189, 205, 179],\n",
       "         ...,\n",
       "         [203, 194, 191, ..., 175, 188, 196],\n",
       "         [221, 209, 203, ..., 178, 186, 184],\n",
       "         [204, 194, 196, ..., 182, 192, 194]],\n",
       " \n",
       "        [[143, 144, 135, ..., 171, 173, 165],\n",
       "         [139, 117, 134, ..., 157, 167, 152],\n",
       "         [136, 102, 125, ..., 147, 163, 137],\n",
       "         ...,\n",
       "         [132, 123, 120, ..., 137, 152, 159],\n",
       "         [150, 138, 132, ..., 140, 150, 147],\n",
       "         [134, 124, 126, ..., 146, 155, 157]],\n",
       " \n",
       "        [[129, 130, 121, ..., 144, 146, 138],\n",
       "         [128, 106, 123, ..., 130, 140, 125],\n",
       "         [126,  92, 118, ..., 122, 138, 112],\n",
       "         ...,\n",
       "         [131, 122, 119, ..., 112, 126, 136],\n",
       "         [149, 137, 131, ..., 115, 124, 124],\n",
       "         [130, 120, 122, ..., 120, 132, 134]],\n",
       " \n",
       "        [[117, 123, 118, ..., 166, 168, 162],\n",
       "         [125, 105, 122, ..., 152, 162, 149],\n",
       "         [130,  94, 118, ..., 142, 159, 133],\n",
       "         ...,\n",
       "         [114, 107, 107, ..., 141, 156, 158],\n",
       "         [130, 121, 118, ..., 145, 157, 148],\n",
       "         [114, 106, 111, ..., 148, 161, 157]]], dtype=uint8),\n",
       " 'multilabels': [['Tilia', 1.0]],\n",
       " 'labelvec': array([0, 0, 0, 0, 0, 0, 0, 0, 0, 0, 0, 0, 0, 0, 1], dtype=uint8)}"
      ]
     },
     "execution_count": 16,
     "metadata": {},
     "output_type": "execute_result"
    }
   ],
   "source": [
    "with MsgpackReader(os.path.join(BASE_PATH, 'aerial.msgpack')) as reader:\n",
    "    for sample in tqdm(reader):\n",
    "        pass\n",
    "sample"
   ]
  },
  {
   "cell_type": "code",
   "execution_count": 17,
   "id": "2378fb9a",
   "metadata": {
    "ExecuteTime": {
     "end_time": "2022-07-04T19:31:37.401604Z",
     "start_time": "2022-07-04T19:31:37.398427Z"
    }
   },
   "outputs": [],
   "source": [
    "def get_item_by_key(self, key):\n",
    "    self.seek_key(key)\n",
    "    return next(self)"
   ]
  },
  {
   "cell_type": "code",
   "execution_count": 18,
   "id": "14150dd2",
   "metadata": {
    "ExecuteTime": {
     "end_time": "2022-07-04T19:31:37.431712Z",
     "start_time": "2022-07-04T19:31:37.402959Z"
    }
   },
   "outputs": [
    {
     "data": {
      "text/plain": [
       "{'key': 'Abies_alba_0_2545_WEFL_NLF.tif',\n",
       " 'label': 'Abies',\n",
       " 'path': 'Abies_alba_0_2545_WEFL_NLF.tif',\n",
       " '_additional_info': [],\n",
       " 'data': array([[[160, 139, 157, ..., 154, 149, 156],\n",
       "         [160, 147, 154, ..., 151, 153, 150],\n",
       "         [153, 158, 157, ..., 157, 162, 152],\n",
       "         ...,\n",
       "         [159, 154, 163, ..., 178, 173, 177],\n",
       "         [150, 147, 146, ..., 189, 189, 189],\n",
       "         [138, 140, 137, ..., 147, 150, 157]],\n",
       " \n",
       "        [[164, 145, 161, ..., 139, 134, 139],\n",
       "         [167, 154, 161, ..., 136, 136, 131],\n",
       "         [164, 169, 168, ..., 139, 143, 130],\n",
       "         ...,\n",
       "         [135, 128, 133, ..., 162, 150, 150],\n",
       "         [129, 123, 119, ..., 184, 177, 170],\n",
       "         [117, 118, 110, ..., 152, 148, 148]],\n",
       " \n",
       "        [[145, 128, 144, ..., 113, 108, 114],\n",
       "         [152, 140, 147, ..., 111, 112, 108],\n",
       "         [153, 160, 157, ..., 120, 122, 108],\n",
       "         ...,\n",
       "         [104,  98, 104, ..., 122, 114, 118],\n",
       "         [ 98,  93,  90, ..., 140, 135, 131],\n",
       "         [ 91,  92,  84, ..., 107, 103, 102]],\n",
       " \n",
       "        [[191, 163, 178, ..., 117, 113, 119],\n",
       "         [196, 176, 183, ..., 113, 114, 111],\n",
       "         [196, 197, 194, ..., 116, 110, 115],\n",
       "         ...,\n",
       "         [132, 124, 130, ..., 160, 166, 155],\n",
       "         [123, 116, 112, ..., 189, 184, 180],\n",
       "         [110, 110, 103, ..., 157, 156, 158]]], dtype=uint8),\n",
       " 'multilabels': [['Abies', 0.81464], ['Quercus', 0.18421], ['Picea', 0.00115]],\n",
       " 'labelvec': array([1, 0, 0, 0, 0, 0, 0, 0, 1, 0, 0, 0, 0, 1, 0], dtype=uint8)}"
      ]
     },
     "execution_count": 18,
     "metadata": {},
     "output_type": "execute_result"
    }
   ],
   "source": [
    "with MsgpackReader(os.path.join(BASE_PATH, 'aerial.msgpack')) as reader:\n",
    "    s = get_item_by_key(reader, TRAIN_FILENAMES[0])\n",
    "s"
   ]
  },
  {
   "cell_type": "code",
   "execution_count": 19,
   "id": "78b3a7b0",
   "metadata": {
    "ExecuteTime": {
     "end_time": "2022-07-04T19:32:02.156211Z",
     "start_time": "2022-07-04T19:31:37.433456Z"
    }
   },
   "outputs": [],
   "source": [
    "#del multilabels_test, multilabels_train, labels_test, labels_train, aerial_test, aerial_train, s1_test, s1_train, s2_test, s2_train\n",
    "\n",
    "v = vars()\n",
    "\n",
    "if os.path.exists(os.path.join(BASE_PATH, 'aerial_test.npy')):\n",
    "    # slight shortcut for above\n",
    "    for _n in 'multilabels_test, multilabels_train, labels_test, labels_train, aerial_test, aerial_train, s1_test, s1_train, s2_test, s2_train'.split(', '):\n",
    "        fn = os.path.join(BASE_PATH, _n + '.npy')\n",
    "        v[_n] = np.load(fn)\n",
    "else:\n",
    "    for t in ['train', 'test']:\n",
    "        fns = v[f'{t.upper()}_FILENAMES']\n",
    "\n",
    "        for ds in ['s1', 's2', 'aerial']:\n",
    "\n",
    "            with MsgpackReader(os.path.join(BASE_PATH, f'{ds}.msgpack')) as reader:\n",
    "                if ds == 's1':\n",
    "                    # use s1 to get labels as it's the smallest / fastest\n",
    "                    v[f'multilabels_{t}'] = np.array([get_item_by_key(reader, fn)['labelvec'] for fn in tqdm(fns, desc=f'multilabels_{t}')])\n",
    "                    v[f'labels_{t}'] = np.array([classes.index(get_item_by_key(reader, fn)['label']) for fn in tqdm(fns, desc=f'labels_{t}')])\n",
    "\n",
    "                v[f'{ds}_{t}'] = np.array([get_item_by_key(reader, fn)['data'] for fn in tqdm(fns, desc=f'{ds}_{t}')])\n",
    "\n",
    "    # save results of this cell\n",
    "    for _n in 'multilabels_test, multilabels_train, labels_test, labels_train, aerial_test, aerial_train, s1_test, s1_train, s2_test, s2_train'.split(', '):\n",
    "        fn = os.path.join(BASE_PATH, _n + '.npy')\n",
    "        np.save(fn, v[_n])"
   ]
  },
  {
   "cell_type": "code",
   "execution_count": 20,
   "id": "562c47d3",
   "metadata": {
    "ExecuteTime": {
     "end_time": "2022-07-04T19:32:02.163167Z",
     "start_time": "2022-07-04T19:32:02.158743Z"
    }
   },
   "outputs": [
    {
     "data": {
      "text/plain": [
       "((45337, 15), (5044, 15))"
      ]
     },
     "execution_count": 20,
     "metadata": {},
     "output_type": "execute_result"
    }
   ],
   "source": [
    "multilabels_train.shape, multilabels_test.shape"
   ]
  },
  {
   "cell_type": "code",
   "execution_count": 21,
   "id": "403f5d9e",
   "metadata": {
    "ExecuteTime": {
     "end_time": "2022-07-04T19:32:02.166996Z",
     "start_time": "2022-07-04T19:32:02.164340Z"
    }
   },
   "outputs": [
    {
     "data": {
      "text/plain": [
       "((45337,), (5044,))"
      ]
     },
     "execution_count": 21,
     "metadata": {},
     "output_type": "execute_result"
    }
   ],
   "source": [
    "labels_train.shape, labels_test.shape"
   ]
  },
  {
   "cell_type": "code",
   "execution_count": 22,
   "id": "f3da9d8a",
   "metadata": {
    "ExecuteTime": {
     "end_time": "2022-07-04T19:32:02.171303Z",
     "start_time": "2022-07-04T19:32:02.168479Z"
    }
   },
   "outputs": [
    {
     "data": {
      "text/plain": [
       "((45337, 4, 304, 304), (5044, 4, 304, 304))"
      ]
     },
     "execution_count": 22,
     "metadata": {},
     "output_type": "execute_result"
    }
   ],
   "source": [
    "aerial_train.shape, aerial_test.shape"
   ]
  },
  {
   "cell_type": "code",
   "execution_count": 23,
   "id": "db5934c1",
   "metadata": {
    "ExecuteTime": {
     "end_time": "2022-07-04T19:32:02.174984Z",
     "start_time": "2022-07-04T19:32:02.172450Z"
    }
   },
   "outputs": [
    {
     "data": {
      "text/plain": [
       "((45337, 3, 6, 6), (5044, 3, 6, 6))"
      ]
     },
     "execution_count": 23,
     "metadata": {},
     "output_type": "execute_result"
    }
   ],
   "source": [
    "s1_train.shape, s1_test.shape"
   ]
  },
  {
   "cell_type": "code",
   "execution_count": 24,
   "id": "8de907b2",
   "metadata": {
    "ExecuteTime": {
     "end_time": "2022-07-04T19:32:02.178958Z",
     "start_time": "2022-07-04T19:32:02.175998Z"
    }
   },
   "outputs": [
    {
     "data": {
      "text/plain": [
       "((45337, 12, 6, 6), (5044, 12, 6, 6))"
      ]
     },
     "execution_count": 24,
     "metadata": {},
     "output_type": "execute_result"
    }
   ],
   "source": [
    "s2_train.shape, s2_test.shape"
   ]
  },
  {
   "cell_type": "code",
   "execution_count": 25,
   "id": "86f51bbc",
   "metadata": {
    "ExecuteTime": {
     "end_time": "2022-07-04T19:32:02.184355Z",
     "start_time": "2022-07-04T19:32:02.181074Z"
    }
   },
   "outputs": [
    {
     "data": {
      "text/plain": [
       "array([1, 0, 0, 0, 0, 0, 0, 0, 1, 0, 0, 0, 0, 1, 0], dtype=uint8)"
      ]
     },
     "execution_count": 25,
     "metadata": {},
     "output_type": "execute_result"
    }
   ],
   "source": [
    "multilabels_train[0]"
   ]
  },
  {
   "cell_type": "code",
   "execution_count": 26,
   "id": "f5a8c95f",
   "metadata": {
    "ExecuteTime": {
     "end_time": "2022-07-04T19:32:02.187928Z",
     "start_time": "2022-07-04T19:32:02.185429Z"
    }
   },
   "outputs": [
    {
     "data": {
      "text/plain": [
       "0"
      ]
     },
     "execution_count": 26,
     "metadata": {},
     "output_type": "execute_result"
    }
   ],
   "source": [
    "labels_train[0]"
   ]
  },
  {
   "cell_type": "code",
   "execution_count": 27,
   "id": "b8250dee",
   "metadata": {
    "ExecuteTime": {
     "end_time": "2022-07-04T19:32:02.347862Z",
     "start_time": "2022-07-04T19:32:02.188947Z"
    }
   },
   "outputs": [
    {
     "data": {
      "text/plain": [
       "<matplotlib.image.AxesImage at 0x7f034f80a400>"
      ]
     },
     "execution_count": 27,
     "metadata": {},
     "output_type": "execute_result"
    },
    {
     "data": {
      "image/png": "[encoded data removed]",
      "text/plain": [
       "<Figure size 432x288 with 1 Axes>"
      ]
     },
     "metadata": {
      "needs_background": "light"
     },
     "output_type": "display_data"
    }
   ],
   "source": [
    "plt.imshow(aerial_train[0][0])"
   ]
  },
  {
   "cell_type": "code",
   "execution_count": 28,
   "id": "b7425349",
   "metadata": {
    "ExecuteTime": {
     "end_time": "2022-07-04T19:32:02.448436Z",
     "start_time": "2022-07-04T19:32:02.349197Z"
    }
   },
   "outputs": [
    {
     "data": {
      "text/plain": [
       "<matplotlib.image.AxesImage at 0x7f034f7084c0>"
      ]
     },
     "execution_count": 28,
     "metadata": {},
     "output_type": "execute_result"
    },
    {
     "data": {
      "image/png": "[encoded data removed]",
      "text/plain": [
       "<Figure size 432x288 with 1 Axes>"
      ]
     },
     "metadata": {
      "needs_background": "light"
     },
     "output_type": "display_data"
    }
   ],
   "source": [
    "# show aerial RGB bands (3,1,2)... 0 is near infrared\n",
    "plt.imshow(np.dstack(aerial_train[0][[3,1,2]]))"
   ]
  },
  {
   "cell_type": "code",
   "execution_count": 29,
   "id": "97a01bad",
   "metadata": {
    "ExecuteTime": {
     "end_time": "2022-07-04T19:32:02.452531Z",
     "start_time": "2022-07-04T19:32:02.449768Z"
    }
   },
   "outputs": [
    {
     "data": {
      "text/plain": [
       "(45337, 4, 304, 304)"
      ]
     },
     "execution_count": 29,
     "metadata": {},
     "output_type": "execute_result"
    }
   ],
   "source": [
    "aerial_train.shape"
   ]
  },
  {
   "cell_type": "code",
   "execution_count": 30,
   "id": "11eef194",
   "metadata": {
    "ExecuteTime": {
     "end_time": "2022-07-04T19:32:09.742827Z",
     "start_time": "2022-07-04T19:32:02.453569Z"
    }
   },
   "outputs": [
    {
     "data": {
      "text/plain": [
       "array([150.97992526,  93.01403697,  85.00857057,  80.97255149])"
      ]
     },
     "execution_count": 30,
     "metadata": {},
     "output_type": "execute_result"
    }
   ],
   "source": [
    "# doesn't look green? let's try getting mean values for bands...\n",
    "aerial_train.mean(axis=(0, 2, 3))"
   ]
  },
  {
   "cell_type": "code",
   "execution_count": 31,
   "id": "bff86d43",
   "metadata": {
    "ExecuteTime": {
     "end_time": "2022-07-04T19:32:09.747192Z",
     "start_time": "2022-07-04T19:32:09.744902Z"
    }
   },
   "outputs": [],
   "source": [
    "# weird, would've expected NIR-R-G-B, so G = aerial_train[:, 2] to have a higher values than R or B???"
   ]
  },
  {
   "cell_type": "code",
   "execution_count": 32,
   "id": "96d7426f",
   "metadata": {
    "ExecuteTime": {
     "end_time": "2022-07-04T19:32:09.751615Z",
     "start_time": "2022-07-04T19:32:09.748533Z"
    }
   },
   "outputs": [],
   "source": [
    "def show(imgs):\n",
    "    if not isinstance(imgs, list):\n",
    "        imgs = [imgs]\n",
    "    fix, axs = plt.subplots(ncols=len(imgs), squeeze=False, figsize=(4*len(imgs), 3))\n",
    "    for i, img in enumerate(imgs):\n",
    "        axs[0, i].imshow(np.asarray(img))\n",
    "        axs[0, i].set(xticklabels=[], yticklabels=[], xticks=[], yticks=[])"
   ]
  },
  {
   "cell_type": "code",
   "execution_count": 33,
   "id": "4986f90e",
   "metadata": {
    "ExecuteTime": {
     "end_time": "2022-07-04T19:32:09.942085Z",
     "start_time": "2022-07-04T19:32:09.752946Z"
    }
   },
   "outputs": [
    {
     "data": {
      "image/png": "[encoded data removed]",
      "text/plain": [
       "<Figure size 1152x216 with 4 Axes>"
      ]
     },
     "metadata": {},
     "output_type": "display_data"
    }
   ],
   "source": [
    "show(list(aerial_train[0]))"
   ]
  },
  {
   "cell_type": "code",
   "execution_count": 34,
   "id": "792fd3d4",
   "metadata": {
    "ExecuteTime": {
     "end_time": "2022-07-04T19:32:10.012506Z",
     "start_time": "2022-07-04T19:32:09.943410Z"
    }
   },
   "outputs": [
    {
     "data": {
      "text/plain": [
       "<matplotlib.image.AxesImage at 0x7f034f51ae50>"
      ]
     },
     "execution_count": 34,
     "metadata": {},
     "output_type": "execute_result"
    },
    {
     "data": {
      "image/png": "[encoded data removed]",
      "text/plain": [
       "<Figure size 432x288 with 1 Axes>"
      ]
     },
     "metadata": {
      "needs_background": "light"
     },
     "output_type": "display_data"
    }
   ],
   "source": [
    "plt.imshow(s1_train[0][0])"
   ]
  },
  {
   "cell_type": "code",
   "execution_count": 35,
   "id": "aa74ae3d",
   "metadata": {
    "ExecuteTime": {
     "end_time": "2022-07-04T19:32:10.249474Z",
     "start_time": "2022-07-04T19:32:10.013645Z"
    }
   },
   "outputs": [
    {
     "data": {
      "image/png": "[encoded data removed]",
      "text/plain": [
       "<Figure size 864x216 with 3 Axes>"
      ]
     },
     "metadata": {},
     "output_type": "display_data"
    }
   ],
   "source": [
    "show(list(s1_train[0]))"
   ]
  },
  {
   "cell_type": "code",
   "execution_count": 36,
   "id": "906f21b2",
   "metadata": {
    "ExecuteTime": {
     "end_time": "2022-07-04T19:32:10.319707Z",
     "start_time": "2022-07-04T19:32:10.251144Z"
    }
   },
   "outputs": [
    {
     "data": {
      "text/plain": [
       "<matplotlib.image.AxesImage at 0x7f034f5bbac0>"
      ]
     },
     "execution_count": 36,
     "metadata": {},
     "output_type": "execute_result"
    },
    {
     "data": {
      "image/png": "[encoded data removed]",
      "text/plain": [
       "<Figure size 432x288 with 1 Axes>"
      ]
     },
     "metadata": {
      "needs_background": "light"
     },
     "output_type": "display_data"
    }
   ],
   "source": [
    "plt.imshow(s2_train[0][0])"
   ]
  },
  {
   "cell_type": "code",
   "execution_count": 37,
   "id": "ee72c5f9",
   "metadata": {
    "ExecuteTime": {
     "end_time": "2022-07-04T19:32:10.388887Z",
     "start_time": "2022-07-04T19:32:10.321291Z"
    }
   },
   "outputs": [
    {
     "data": {
      "text/plain": [
       "<matplotlib.image.AxesImage at 0x7f034f5967c0>"
      ]
     },
     "execution_count": 37,
     "metadata": {},
     "output_type": "execute_result"
    },
    {
     "data": {
      "image/png": "[encoded data removed]",
      "text/plain": [
       "<Figure size 432x288 with 1 Axes>"
      ]
     },
     "metadata": {
      "needs_background": "light"
     },
     "output_type": "display_data"
    }
   ],
   "source": [
    "# RGB are first in our s2 data\n",
    "plt.imshow(np.dstack(s2_train[0][[0,1,2]]/750))"
   ]
  },
  {
   "cell_type": "code",
   "execution_count": 38,
   "id": "64a16551",
   "metadata": {
    "ExecuteTime": {
     "end_time": "2022-07-04T19:32:10.457331Z",
     "start_time": "2022-07-04T19:32:10.390275Z"
    }
   },
   "outputs": [
    {
     "data": {
      "text/plain": [
       "<matplotlib.image.AxesImage at 0x7f034f655a90>"
      ]
     },
     "execution_count": 38,
     "metadata": {},
     "output_type": "execute_result"
    },
    {
     "data": {
      "image/png": "[encoded data removed]",
      "text/plain": [
       "<Figure size 432x288 with 1 Axes>"
      ]
     },
     "metadata": {
      "needs_background": "light"
     },
     "output_type": "display_data"
    }
   ],
   "source": [
    "# show s2 RGB Bands (4,3,2)  # warning, were re-ordered\n",
    "plt.imshow(np.dstack(s2_train[0][[4,3,2]]/6000))"
   ]
  },
  {
   "cell_type": "code",
   "execution_count": 39,
   "id": "8130ffd9",
   "metadata": {
    "ExecuteTime": {
     "end_time": "2022-07-04T19:32:10.815258Z",
     "start_time": "2022-07-04T19:32:10.458671Z"
    },
    "scrolled": true
   },
   "outputs": [
    {
     "data": {
      "image/png": "[encoded data removed]",
      "text/plain": [
       "<Figure size 3456x216 with 12 Axes>"
      ]
     },
     "metadata": {},
     "output_type": "display_data"
    }
   ],
   "source": [
    "show(list(s2_train[0]))"
   ]
  },
  {
   "cell_type": "markdown",
   "id": "bc7c8f73",
   "metadata": {},
   "source": [
    "## preprocess aerial (ResNet features)"
   ]
  },
  {
   "cell_type": "code",
   "execution_count": 40,
   "id": "7d84879b",
   "metadata": {
    "ExecuteTime": {
     "end_time": "2022-07-04T19:32:14.604837Z",
     "start_time": "2022-07-04T19:32:10.817527Z"
    }
   },
   "outputs": [
    {
     "name": "stderr",
     "output_type": "stream",
     "text": [
      "Downloading: \"https://github.com/pytorch/vision/archive/v0.10.0.zip\" to /root/.cache/torch/hub/v0.10.0.zip\n",
      "Downloading: \"https://download.pytorch.org/models/resnet18-f37072fd.pth\" to /root/.cache/torch/hub/checkpoints/resnet18-f37072fd.pth\n"
     ]
    },
    {
     "data": {
      "application/vnd.jupyter.widget-view+json": {
       "model_id": "36debfe1c9484aa6849d6187e95351ca",
       "version_major": 2,
       "version_minor": 0
      },
      "text/plain": [
       "  0%|          | 0.00/44.7M [00:00<?, ?B/s]"
      ]
     },
     "metadata": {},
     "output_type": "display_data"
    }
   ],
   "source": [
    "resnet = torch.hub.load('pytorch/vision:v0.10.0', 'resnet18', pretrained=True).eval()\n",
    "weights = torch.load(RESNET_WEIGHTS_FILE, map_location=torch.device('cpu'))\n",
    "torch.set_num_threads(min(64, joblib.cpu_count()))  # lots of red bars... sys time...\n",
    "resnet.weights = weights\n",
    "feature_extractor = torch.nn.Sequential(*list(resnet.children())[:-1])"
   ]
  },
  {
   "cell_type": "code",
   "execution_count": 41,
   "id": "cafa03d6",
   "metadata": {
    "ExecuteTime": {
     "end_time": "2022-07-04T19:33:23.987646Z",
     "start_time": "2022-07-04T19:32:14.607092Z"
    }
   },
   "outputs": [],
   "source": [
    "mean = aerial_train[:, [3,1,2], :, :].mean(axis=(0, 2, 3))\n",
    "stddev = aerial_train[:, [3,1,2], :, :].std(axis=(0, 2, 3))"
   ]
  },
  {
   "cell_type": "code",
   "execution_count": 42,
   "id": "c312b975",
   "metadata": {
    "ExecuteTime": {
     "end_time": "2022-07-04T19:33:46.868228Z",
     "start_time": "2022-07-04T19:33:23.990457Z"
    }
   },
   "outputs": [],
   "source": [
    "crop = (aerial_train.shape[-1] - 224) // 2\n",
    "prep_aerial_train = (aerial_train[:, [3,1,2], crop:-crop, crop:-crop] - mean.reshape(1, 3, 1, 1)) / stddev.reshape(1, 3, 1, 1)\n",
    "prep_aerial_test = (aerial_test[:, [3,1,2], crop:-crop, crop:-crop] - mean.reshape(1, 3, 1, 1)) / stddev.reshape(1, 3, 1, 1)"
   ]
  },
  {
   "cell_type": "code",
   "execution_count": 43,
   "id": "f59f2ff1",
   "metadata": {
    "ExecuteTime": {
     "end_time": "2022-07-04T19:38:46.902757Z",
     "start_time": "2022-07-04T19:33:46.874677Z"
    }
   },
   "outputs": [],
   "source": [
    "with torch.no_grad():\n",
    "    feats_aerial_train = feature_extractor(torch.tensor(prep_aerial_train, dtype=torch.float32)).squeeze().detach().numpy()\n",
    "    feats_aerial_test = feature_extractor(torch.tensor(prep_aerial_test, dtype=torch.float32)).squeeze().detach().numpy()"
   ]
  },
  {
   "cell_type": "markdown",
   "id": "37fc8ccf",
   "metadata": {},
   "source": [
    "## simple single labels lightgbm training"
   ]
  },
  {
   "cell_type": "code",
   "execution_count": 44,
   "id": "8be4b5b2",
   "metadata": {
    "ExecuteTime": {
     "end_time": "2022-07-04T19:38:46.908668Z",
     "start_time": "2022-07-04T19:38:46.904736Z"
    }
   },
   "outputs": [],
   "source": [
    "X_train = s2_train.reshape(len(labels_train), -1)\n",
    "y_train = labels_train\n",
    "X_test = s2_test.reshape(len(labels_test), -1)\n",
    "y_test = labels_test"
   ]
  },
  {
   "cell_type": "code",
   "execution_count": 45,
   "id": "a9544748",
   "metadata": {
    "ExecuteTime": {
     "end_time": "2022-07-04T19:39:00.842285Z",
     "start_time": "2022-07-04T19:38:46.909793Z"
    }
   },
   "outputs": [
    {
     "data": {
      "text/plain": [
       "LGBMClassifier(n_jobs=32)"
      ]
     },
     "execution_count": 45,
     "metadata": {},
     "output_type": "execute_result"
    }
   ],
   "source": [
    "# clf = ltb.LGBMClassifier(\n",
    "#     boosting_type='gbdt',\n",
    "#     objective='multiclass',\n",
    "#     num_class=len(classes),\n",
    "#     learning_rate=LEARNING_RATE,\n",
    "#     n_estimators=NUM_ESTIMATORS,\n",
    "#     #verbose=1,\n",
    "# )\n",
    "\n",
    "clf = ltb.LGBMClassifier(n_jobs=min(32, joblib.cpu_count()))  # seems more than 32 actually slows things down\n",
    "clf.fit(X_train, y_train)"
   ]
  },
  {
   "cell_type": "code",
   "execution_count": 46,
   "id": "b260eb6a",
   "metadata": {
    "ExecuteTime": {
     "end_time": "2022-07-04T19:39:01.538090Z",
     "start_time": "2022-07-04T19:39:00.843917Z"
    },
    "scrolled": false
   },
   "outputs": [
    {
     "name": "stdout",
     "output_type": "stream",
     "text": [
      "LightGBM Model accuracy score: 0.5710\n",
      "              precision    recall  f1-score   support\n",
      "\n",
      "       Abies       0.54      0.40      0.46        93\n",
      "        Acer       0.36      0.22      0.27       282\n",
      "       Alnus       0.25      0.11      0.15       247\n",
      "      Betula       0.37      0.22      0.28       281\n",
      "     Cleared       0.63      0.75      0.69       422\n",
      "       Fagus       0.55      0.73      0.63       639\n",
      "    Fraxinus       0.35      0.23      0.28       255\n",
      "       Larix       0.51      0.39      0.44       316\n",
      "       Picea       0.68      0.78      0.73       571\n",
      "       Pinus       0.69      0.80      0.74       759\n",
      "     Populus       0.62      0.06      0.11        81\n",
      "      Prunus       0.25      0.07      0.11        29\n",
      " Pseudotsuga       0.64      0.52      0.57       278\n",
      "     Quercus       0.53      0.68      0.59       769\n",
      "       Tilia       0.08      0.05      0.06        22\n",
      "\n",
      "    accuracy                           0.57      5044\n",
      "   macro avg       0.47      0.40      0.41      5044\n",
      "weighted avg       0.54      0.57      0.54      5044\n",
      "\n"
     ]
    },
    {
     "data": {
      "image/png": "[encoded data removed]",
      "text/plain": [
       "<Figure size 576x576 with 2 Axes>"
      ]
     },
     "metadata": {
      "needs_background": "light"
     },
     "output_type": "display_data"
    },
    {
     "data": {
      "image/png": "[encoded data removed]",
      "text/plain": [
       "<Figure size 576x576 with 2 Axes>"
      ]
     },
     "metadata": {
      "needs_background": "light"
     },
     "output_type": "display_data"
    }
   ],
   "source": [
    "y_pred=clf.predict(X_test)\n",
    "\n",
    "accuracy=accuracy_score(y_pred, y_test)\n",
    "print('LightGBM Model accuracy score: {0:0.4f}'.format(accuracy_score(y_test, y_pred)))\n",
    "print(classification_report(y_test, y_pred, target_names=classes, zero_division=0))\n",
    "# cm = confusion_matrix(y_test, y_pred)\n",
    "# print(cm)\n",
    "fig, ax = plt.subplots(figsize=(8,8))\n",
    "ConfusionMatrixDisplay.from_predictions(y_test, y_pred, display_labels=classes, xticks_rotation='vertical', ax=ax)\n",
    "plt.show()\n",
    "fig, ax = plt.subplots(figsize=(8,8))\n",
    "ConfusionMatrixDisplay.from_predictions(y_test, y_pred, display_labels=classes, xticks_rotation='vertical', normalize='true', include_values=False, ax=ax)\n",
    "plt.show()"
   ]
  },
  {
   "cell_type": "markdown",
   "id": "809f60bd",
   "metadata": {},
   "source": [
    "### param tuning"
   ]
  },
  {
   "cell_type": "code",
   "execution_count": 47,
   "id": "17a2744b",
   "metadata": {
    "ExecuteTime": {
     "end_time": "2022-07-04T19:39:01.541187Z",
     "start_time": "2022-07-04T19:39:01.539437Z"
    },
    "scrolled": false
   },
   "outputs": [],
   "source": [
    "# automl = AutoML()\n",
    "# automl.fit(\n",
    "#     X_train,\n",
    "#     y_train,\n",
    "#     task=\"classification\",\n",
    "#     metric='macro_f1', # 'accuracy', 'micro_f1'\n",
    "#     time_budget=10*60,\n",
    "#     estimator_list=['lgbm'],\n",
    "#     verbose=1,\n",
    "#     n_jobs=min(32, joblib.cpu_count())\n",
    "# )\n",
    "# y_pred=automl.predict(X_test)\n",
    "\n",
    "# print(classification_report(y_test, y_pred, target_names=classes, zero_division=0))\n",
    "# cm = confusion_matrix(y_test, y_pred)\n",
    "# print(cm)"
   ]
  },
  {
   "cell_type": "markdown",
   "id": "124eea01",
   "metadata": {},
   "source": [
    "## simple multilabel lightgbm"
   ]
  },
  {
   "cell_type": "code",
   "execution_count": 48,
   "id": "93106a4b",
   "metadata": {
    "ExecuteTime": {
     "end_time": "2022-07-04T19:39:01.544262Z",
     "start_time": "2022-07-04T19:39:01.542272Z"
    }
   },
   "outputs": [],
   "source": [
    "X_train = s2_train.reshape(len(labels_train), -1)\n",
    "y_train = multilabels_train\n",
    "X_test = s2_test.reshape(len(labels_test), -1)\n",
    "y_test = multilabels_test"
   ]
  },
  {
   "cell_type": "code",
   "execution_count": 49,
   "id": "f849e99c",
   "metadata": {
    "ExecuteTime": {
     "end_time": "2022-07-04T19:39:15.756387Z",
     "start_time": "2022-07-04T19:39:01.545311Z"
    }
   },
   "outputs": [
    {
     "data": {
      "text/plain": [
       "OneVsRestClassifier(estimator=LGBMClassifier(n_jobs=10), n_jobs=15)"
      ]
     },
     "execution_count": 49,
     "metadata": {},
     "output_type": "execute_result"
    }
   ],
   "source": [
    "clf = ltb.LGBMClassifier(\n",
    "    n_jobs=min(32, joblib.cpu_count()//len(classes)),  # seems more than 32 actually slows things down\n",
    ")  \n",
    "clf = OneVsRestClassifier(clf, n_jobs=len(classes))\n",
    "clf.fit(X_train, y_train)"
   ]
  },
  {
   "cell_type": "code",
   "execution_count": 50,
   "id": "9b2be19d",
   "metadata": {
    "ExecuteTime": {
     "end_time": "2022-07-04T19:39:17.239491Z",
     "start_time": "2022-07-04T19:39:15.757727Z"
    }
   },
   "outputs": [
    {
     "name": "stdout",
     "output_type": "stream",
     "text": [
      "LightGBM Model accuracy score: 0.2522\n",
      "              precision    recall  f1-score   support\n",
      "\n",
      "       Abies       0.66      0.19      0.29       156\n",
      "        Acer       0.43      0.04      0.07       390\n",
      "       Alnus       0.36      0.01      0.02       418\n",
      "      Betula       0.64      0.02      0.03       430\n",
      "     Cleared       0.75      0.42      0.54       715\n",
      "       Fagus       0.71      0.50      0.58      1434\n",
      "    Fraxinus       0.45      0.04      0.08       338\n",
      "       Larix       0.78      0.09      0.17       637\n",
      "       Picea       0.79      0.59      0.68      1409\n",
      "       Pinus       0.76      0.62      0.68      1355\n",
      "     Populus       0.50      0.03      0.06        96\n",
      "      Prunus       0.33      0.02      0.04        47\n",
      " Pseudotsuga       0.69      0.23      0.35       575\n",
      "     Quercus       0.71      0.42      0.53      1443\n",
      "       Tilia       0.00      0.00      0.00        29\n",
      "\n",
      "   micro avg       0.74      0.37      0.50      9472\n",
      "   macro avg       0.57      0.21      0.27      9472\n",
      "weighted avg       0.69      0.37      0.45      9472\n",
      " samples avg       0.61      0.45      0.49      9472\n",
      "\n"
     ]
    },
    {
     "data": {
      "text/html": [
       "<div>\n",
       "<style scoped>\n",
       "    .dataframe tbody tr th:only-of-type {\n",
       "        vertical-align: middle;\n",
       "    }\n",
       "\n",
       "    .dataframe tbody tr th {\n",
       "        vertical-align: top;\n",
       "    }\n",
       "\n",
       "    .dataframe thead th {\n",
       "        text-align: right;\n",
       "    }\n",
       "</style>\n",
       "<table border=\"1\" class=\"dataframe\">\n",
       "  <thead>\n",
       "    <tr style=\"text-align: right;\">\n",
       "      <th></th>\n",
       "      <th>precision</th>\n",
       "      <th>recall</th>\n",
       "      <th>f1-score</th>\n",
       "      <th>mAP</th>\n",
       "      <th>support</th>\n",
       "    </tr>\n",
       "  </thead>\n",
       "  <tbody>\n",
       "    <tr>\n",
       "      <th>Abies</th>\n",
       "      <td>0.6591</td>\n",
       "      <td>0.1859</td>\n",
       "      <td>0.2900</td>\n",
       "      <td>0.3879</td>\n",
       "      <td>156.0</td>\n",
       "    </tr>\n",
       "    <tr>\n",
       "      <th>Acer</th>\n",
       "      <td>0.4286</td>\n",
       "      <td>0.0385</td>\n",
       "      <td>0.0706</td>\n",
       "      <td>0.2771</td>\n",
       "      <td>390.0</td>\n",
       "    </tr>\n",
       "    <tr>\n",
       "      <th>Alnus</th>\n",
       "      <td>0.3571</td>\n",
       "      <td>0.0120</td>\n",
       "      <td>0.0231</td>\n",
       "      <td>0.1964</td>\n",
       "      <td>418.0</td>\n",
       "    </tr>\n",
       "    <tr>\n",
       "      <th>Betula</th>\n",
       "      <td>0.6364</td>\n",
       "      <td>0.0163</td>\n",
       "      <td>0.0317</td>\n",
       "      <td>0.2365</td>\n",
       "      <td>430.0</td>\n",
       "    </tr>\n",
       "    <tr>\n",
       "      <th>Cleared</th>\n",
       "      <td>0.7500</td>\n",
       "      <td>0.4238</td>\n",
       "      <td>0.5416</td>\n",
       "      <td>0.6342</td>\n",
       "      <td>715.0</td>\n",
       "    </tr>\n",
       "    <tr>\n",
       "      <th>Fagus</th>\n",
       "      <td>0.7072</td>\n",
       "      <td>0.4951</td>\n",
       "      <td>0.5824</td>\n",
       "      <td>0.6995</td>\n",
       "      <td>1434.0</td>\n",
       "    </tr>\n",
       "    <tr>\n",
       "      <th>Fraxinus</th>\n",
       "      <td>0.4516</td>\n",
       "      <td>0.0414</td>\n",
       "      <td>0.0759</td>\n",
       "      <td>0.2729</td>\n",
       "      <td>338.0</td>\n",
       "    </tr>\n",
       "    <tr>\n",
       "      <th>Larix</th>\n",
       "      <td>0.7792</td>\n",
       "      <td>0.0942</td>\n",
       "      <td>0.1681</td>\n",
       "      <td>0.3639</td>\n",
       "      <td>637.0</td>\n",
       "    </tr>\n",
       "    <tr>\n",
       "      <th>Picea</th>\n",
       "      <td>0.7947</td>\n",
       "      <td>0.5905</td>\n",
       "      <td>0.6775</td>\n",
       "      <td>0.7835</td>\n",
       "      <td>1409.0</td>\n",
       "    </tr>\n",
       "    <tr>\n",
       "      <th>Pinus</th>\n",
       "      <td>0.7647</td>\n",
       "      <td>0.6162</td>\n",
       "      <td>0.6825</td>\n",
       "      <td>0.7889</td>\n",
       "      <td>1355.0</td>\n",
       "    </tr>\n",
       "    <tr>\n",
       "      <th>Populus</th>\n",
       "      <td>0.5000</td>\n",
       "      <td>0.0312</td>\n",
       "      <td>0.0588</td>\n",
       "      <td>0.1485</td>\n",
       "      <td>96.0</td>\n",
       "    </tr>\n",
       "    <tr>\n",
       "      <th>Prunus</th>\n",
       "      <td>0.3333</td>\n",
       "      <td>0.0213</td>\n",
       "      <td>0.0400</td>\n",
       "      <td>0.0569</td>\n",
       "      <td>47.0</td>\n",
       "    </tr>\n",
       "    <tr>\n",
       "      <th>Pseudotsuga</th>\n",
       "      <td>0.6856</td>\n",
       "      <td>0.2313</td>\n",
       "      <td>0.3459</td>\n",
       "      <td>0.4806</td>\n",
       "      <td>575.0</td>\n",
       "    </tr>\n",
       "    <tr>\n",
       "      <th>Quercus</th>\n",
       "      <td>0.7111</td>\n",
       "      <td>0.4179</td>\n",
       "      <td>0.5264</td>\n",
       "      <td>0.6710</td>\n",
       "      <td>1443.0</td>\n",
       "    </tr>\n",
       "    <tr>\n",
       "      <th>Tilia</th>\n",
       "      <td>0.0000</td>\n",
       "      <td>0.0000</td>\n",
       "      <td>0.0000</td>\n",
       "      <td>0.0463</td>\n",
       "      <td>29.0</td>\n",
       "    </tr>\n",
       "    <tr>\n",
       "      <th>micro avg</th>\n",
       "      <td>0.7376</td>\n",
       "      <td>0.3748</td>\n",
       "      <td>0.4970</td>\n",
       "      <td>0.6142</td>\n",
       "      <td>9472.0</td>\n",
       "    </tr>\n",
       "    <tr>\n",
       "      <th>macro avg</th>\n",
       "      <td>0.5706</td>\n",
       "      <td>0.2144</td>\n",
       "      <td>0.2743</td>\n",
       "      <td>0.4030</td>\n",
       "      <td>9472.0</td>\n",
       "    </tr>\n",
       "    <tr>\n",
       "      <th>weighted avg</th>\n",
       "      <td>0.6896</td>\n",
       "      <td>0.3748</td>\n",
       "      <td>0.4536</td>\n",
       "      <td>0.5879</td>\n",
       "      <td>9472.0</td>\n",
       "    </tr>\n",
       "    <tr>\n",
       "      <th>samples avg</th>\n",
       "      <td>0.6136</td>\n",
       "      <td>0.4463</td>\n",
       "      <td>0.4920</td>\n",
       "      <td>0.7313</td>\n",
       "      <td>9472.0</td>\n",
       "    </tr>\n",
       "  </tbody>\n",
       "</table>\n",
       "</div>"
      ],
      "text/plain": [
       "              precision  recall  f1-score     mAP  support\n",
       "Abies            0.6591  0.1859    0.2900  0.3879    156.0\n",
       "Acer             0.4286  0.0385    0.0706  0.2771    390.0\n",
       "Alnus            0.3571  0.0120    0.0231  0.1964    418.0\n",
       "Betula           0.6364  0.0163    0.0317  0.2365    430.0\n",
       "Cleared          0.7500  0.4238    0.5416  0.6342    715.0\n",
       "Fagus            0.7072  0.4951    0.5824  0.6995   1434.0\n",
       "Fraxinus         0.4516  0.0414    0.0759  0.2729    338.0\n",
       "Larix            0.7792  0.0942    0.1681  0.3639    637.0\n",
       "Picea            0.7947  0.5905    0.6775  0.7835   1409.0\n",
       "Pinus            0.7647  0.6162    0.6825  0.7889   1355.0\n",
       "Populus          0.5000  0.0312    0.0588  0.1485     96.0\n",
       "Prunus           0.3333  0.0213    0.0400  0.0569     47.0\n",
       "Pseudotsuga      0.6856  0.2313    0.3459  0.4806    575.0\n",
       "Quercus          0.7111  0.4179    0.5264  0.6710   1443.0\n",
       "Tilia            0.0000  0.0000    0.0000  0.0463     29.0\n",
       "micro avg        0.7376  0.3748    0.4970  0.6142   9472.0\n",
       "macro avg        0.5706  0.2144    0.2743  0.4030   9472.0\n",
       "weighted avg     0.6896  0.3748    0.4536  0.5879   9472.0\n",
       "samples avg      0.6136  0.4463    0.4920  0.7313   9472.0"
      ]
     },
     "execution_count": 50,
     "metadata": {},
     "output_type": "execute_result"
    }
   ],
   "source": [
    "y_pred = clf.predict(X_test)\n",
    "y_score = clf.predict_proba(X_test)\n",
    "\n",
    "accuracy=accuracy_score(y_pred, y_test)\n",
    "print('LightGBM Model accuracy score: {0:0.4f}'.format(accuracy_score(y_test, y_pred)))\n",
    "print(classification_report(y_test, y_pred, target_names=classes, zero_division=0))\n",
    "cr = classification_report(y_test, y_pred, target_names=classes, zero_division=0, output_dict=True)\n",
    "df = pd.DataFrame(cr).transpose()\n",
    "df.insert(3, 'mAP', list(average_precision_score(y_test, y_score, average=None)) + [\n",
    "    average_precision_score(y_test, y_score, average=n) for n in ['micro', 'macro', 'weighted', 'samples']\n",
    "])\n",
    "df"
   ]
  },
  {
   "cell_type": "code",
   "execution_count": 51,
   "id": "369777b4",
   "metadata": {
    "ExecuteTime": {
     "end_time": "2022-07-04T19:39:17.244260Z",
     "start_time": "2022-07-04T19:39:17.240530Z"
    }
   },
   "outputs": [
    {
     "data": {
      "text/plain": [
       "array([[0, 0, 0, 0, 0, 0, 0, 0, 1, 0, 0, 0, 0, 0, 0],\n",
       "       [0, 0, 0, 0, 0, 0, 0, 0, 0, 1, 0, 0, 0, 0, 0],\n",
       "       [0, 0, 0, 0, 0, 0, 0, 0, 0, 0, 0, 0, 1, 0, 0],\n",
       "       [0, 0, 0, 0, 0, 0, 0, 0, 0, 0, 0, 0, 0, 0, 0],\n",
       "       [1, 0, 0, 0, 0, 0, 0, 0, 0, 0, 0, 0, 1, 0, 0],\n",
       "       [0, 0, 0, 0, 0, 0, 0, 0, 0, 0, 0, 0, 0, 0, 0],\n",
       "       [1, 0, 0, 0, 0, 0, 0, 0, 0, 0, 0, 0, 1, 0, 0],\n",
       "       [1, 0, 0, 0, 0, 0, 0, 0, 0, 0, 0, 0, 1, 0, 0],\n",
       "       [0, 0, 0, 0, 0, 0, 0, 0, 0, 0, 0, 0, 0, 0, 0],\n",
       "       [1, 0, 0, 0, 0, 0, 0, 0, 0, 0, 0, 0, 1, 0, 0]])"
      ]
     },
     "execution_count": 51,
     "metadata": {},
     "output_type": "execute_result"
    }
   ],
   "source": [
    "y_pred[:10]"
   ]
  },
  {
   "cell_type": "code",
   "execution_count": 52,
   "id": "e4d6f5a1",
   "metadata": {
    "ExecuteTime": {
     "end_time": "2022-07-04T19:39:17.248575Z",
     "start_time": "2022-07-04T19:39:17.245157Z"
    }
   },
   "outputs": [
    {
     "data": {
      "text/plain": [
       "array([[0. , 0. , 0. , 0. , 0.1, 0.1, 0. , 0.1, 0.5, 0.2, 0. , 0. , 0.1,\n",
       "        0.1, 0. ],\n",
       "       [0. , 0. , 0. , 0.1, 0.1, 0. , 0. , 0.3, 0.1, 0.7, 0. , 0. , 0.1,\n",
       "        0.2, 0. ],\n",
       "       [0.5, 0. , 0. , 0. , 0. , 0.1, 0. , 0.1, 0.2, 0.2, 0. , 0. , 0.8,\n",
       "        0.1, 0. ],\n",
       "       [0. , 0.1, 0.1, 0.1, 0.1, 0.5, 0. , 0.1, 0.5, 0.1, 0. , 0. , 0.1,\n",
       "        0.1, 0. ],\n",
       "       [0.9, 0. , 0. , 0. , 0. , 0. , 0. , 0.2, 0. , 0.1, 0. , 0. , 0.6,\n",
       "        0.1, 0. ],\n",
       "       [0.2, 0. , 0. , 0.1, 0.1, 0.1, 0.1, 0.2, 0.2, 0.2, 0. , 0. , 0.2,\n",
       "        0.4, 0. ],\n",
       "       [0.6, 0.1, 0. , 0.2, 0.1, 0.2, 0. , 0.2, 0.4, 0.3, 0. , 0. , 0.5,\n",
       "        0.4, 0. ],\n",
       "       [0.7, 0. , 0. , 0. , 0. , 0.1, 0. , 0.1, 0.2, 0.2, 0. , 0. , 0.8,\n",
       "        0.1, 0. ],\n",
       "       [0.1, 0. , 0.1, 0.1, 0. , 0.1, 0. , 0.1, 0.1, 0.4, 0. , 0. , 0.2,\n",
       "        0.4, 0. ],\n",
       "       [0.8, 0. , 0. , 0.1, 0. , 0.2, 0. , 0.1, 0.1, 0.2, 0. , 0. , 0.8,\n",
       "        0.3, 0. ]])"
      ]
     },
     "execution_count": 52,
     "metadata": {},
     "output_type": "execute_result"
    }
   ],
   "source": [
    "y_score[:10].round(1)"
   ]
  },
  {
   "cell_type": "markdown",
   "id": "4020a430",
   "metadata": {},
   "source": [
    "### param tuning"
   ]
  },
  {
   "cell_type": "code",
   "execution_count": 53,
   "id": "c748b6b1",
   "metadata": {
    "ExecuteTime": {
     "end_time": "2022-07-04T19:39:17.251214Z",
     "start_time": "2022-07-04T19:39:17.249415Z"
    },
    "scrolled": true
   },
   "outputs": [],
   "source": [
    "# automl = AutoML(\n",
    "#     time_budget=30,\n",
    "#     estimator_list=['lgbm'],\n",
    "#     n_jobs=min(32, joblib.cpu_count() // len(classes)),\n",
    "# )\n",
    "# automl = OneVsRestClassifier(automl, n_jobs=len(classes))\n",
    "# automl.fit(\n",
    "#     X_train,\n",
    "#     y_train,\n",
    "# )\n",
    "\n",
    "# y_pred = automl.predict(X_test)\n",
    "# y_score = automl.predict_proba(X_test)\n",
    "\n",
    "# accuracy=accuracy_score(y_pred, y_test)\n",
    "# print('LightGBM Model accuracy score: {0:0.4f}'.format(accuracy_score(y_test, y_pred)))\n",
    "# print(classification_report(y_test, y_pred, target_names=classes, zero_division=0))\n",
    "# cr = classification_report(y_test, y_pred, target_names=classes, zero_division=0, output_dict=True)\n",
    "# df = pd.DataFrame(cr).transpose()\n",
    "# df.insert(3, 'mAP', list(average_precision_score(y_test, y_score, average=None)) + [\n",
    "#     average_precision_score(y_test, y_score, average=n) for n in ['micro', 'macro', 'weighted', 'samples']\n",
    "# ])\n",
    "# df"
   ]
  },
  {
   "cell_type": "markdown",
   "id": "d6e43236",
   "metadata": {},
   "source": [
    "## training helpers"
   ]
  },
  {
   "cell_type": "code",
   "execution_count": 54,
   "id": "16dcd528",
   "metadata": {
    "ExecuteTime": {
     "end_time": "2022-07-04T19:39:17.256977Z",
     "start_time": "2022-07-04T19:39:17.252198Z"
    }
   },
   "outputs": [],
   "source": [
    "def train_and_eval(name, X_train, y_train, X_test, y_test, time_budget=TIME_BUDGET, verbose=0):\n",
    "    automl = AutoML(\n",
    "        time_budget=time_budget,\n",
    "        verbose=verbose,\n",
    "        estimator_list=['lgbm'],\n",
    "        n_jobs=min(32, joblib.cpu_count() // len(classes)),  # gets slower if more than 32...\n",
    "    )\n",
    "    automl = OneVsRestClassifier(automl, n_jobs=len(classes))\n",
    "    automl.fit(\n",
    "        X_train,\n",
    "        y_train,\n",
    "    )\n",
    "    with shelve.open(\"lightgbm_bestconfigs.shelve\") as all_res:\n",
    "        all_res[name] = [clf.best_config for clf in automl.estimators_]\n",
    "        \n",
    "    y_pred = automl.predict(X_test)\n",
    "    y_score = automl.predict_proba(X_test)\n",
    "\n",
    "    accuracy=accuracy_score(y_pred, y_test)\n",
    "    #print('LightGBM Model accuracy score: {0:0.4f}'.format(accuracy_score(y_test, y_pred)))\n",
    "    #print(classification_report(y_test, y_pred, target_names=classes, zero_division=0))\n",
    "    cr = classification_report(y_test, y_pred, target_names=classes, zero_division=0, output_dict=True)\n",
    "    df = pd.DataFrame(cr).transpose()\n",
    "    df.insert(3, 'mAP', list(average_precision_score(y_test, y_score, average=None)) + [\n",
    "        average_precision_score(y_test, y_score, average=n) for n in ['micro', 'macro', 'weighted', 'samples']\n",
    "    ])\n",
    "    with shelve.open(\"lightgbm_res.shelve\") as all_res:\n",
    "        all_res[name] = df\n",
    "    display(df.iloc[:-4])\n",
    "    display(df.iloc[-4:])"
   ]
  },
  {
   "cell_type": "markdown",
   "id": "d9678a5e",
   "metadata": {},
   "source": [
    "## individual"
   ]
  },
  {
   "cell_type": "markdown",
   "id": "94ebca5b",
   "metadata": {},
   "source": [
    "### S1"
   ]
  },
  {
   "cell_type": "code",
   "execution_count": 55,
   "id": "7a79b996",
   "metadata": {
    "ExecuteTime": {
     "end_time": "2022-07-04T20:11:32.632163Z",
     "start_time": "2022-07-04T19:39:17.257797Z"
    },
    "scrolled": false
   },
   "outputs": [
    {
     "data": {
      "text/html": [
       "<div>\n",
       "<style scoped>\n",
       "    .dataframe tbody tr th:only-of-type {\n",
       "        vertical-align: middle;\n",
       "    }\n",
       "\n",
       "    .dataframe tbody tr th {\n",
       "        vertical-align: top;\n",
       "    }\n",
       "\n",
       "    .dataframe thead th {\n",
       "        text-align: right;\n",
       "    }\n",
       "</style>\n",
       "<table border=\"1\" class=\"dataframe\">\n",
       "  <thead>\n",
       "    <tr style=\"text-align: right;\">\n",
       "      <th></th>\n",
       "      <th>precision</th>\n",
       "      <th>recall</th>\n",
       "      <th>f1-score</th>\n",
       "      <th>mAP</th>\n",
       "      <th>support</th>\n",
       "    </tr>\n",
       "  </thead>\n",
       "  <tbody>\n",
       "    <tr>\n",
       "      <th>Abies</th>\n",
       "      <td>0.0000</td>\n",
       "      <td>0.0000</td>\n",
       "      <td>0.0000</td>\n",
       "      <td>0.0648</td>\n",
       "      <td>156.0</td>\n",
       "    </tr>\n",
       "    <tr>\n",
       "      <th>Acer</th>\n",
       "      <td>0.0000</td>\n",
       "      <td>0.0000</td>\n",
       "      <td>0.0000</td>\n",
       "      <td>0.1108</td>\n",
       "      <td>390.0</td>\n",
       "    </tr>\n",
       "    <tr>\n",
       "      <th>Alnus</th>\n",
       "      <td>0.0000</td>\n",
       "      <td>0.0000</td>\n",
       "      <td>0.0000</td>\n",
       "      <td>0.1058</td>\n",
       "      <td>418.0</td>\n",
       "    </tr>\n",
       "    <tr>\n",
       "      <th>Betula</th>\n",
       "      <td>0.0662</td>\n",
       "      <td>0.0233</td>\n",
       "      <td>0.0344</td>\n",
       "      <td>0.0914</td>\n",
       "      <td>430.0</td>\n",
       "    </tr>\n",
       "    <tr>\n",
       "      <th>Cleared</th>\n",
       "      <td>0.6364</td>\n",
       "      <td>0.1762</td>\n",
       "      <td>0.2760</td>\n",
       "      <td>0.4061</td>\n",
       "      <td>715.0</td>\n",
       "    </tr>\n",
       "    <tr>\n",
       "      <th>Fagus</th>\n",
       "      <td>0.5714</td>\n",
       "      <td>0.0446</td>\n",
       "      <td>0.0828</td>\n",
       "      <td>0.3921</td>\n",
       "      <td>1434.0</td>\n",
       "    </tr>\n",
       "    <tr>\n",
       "      <th>Fraxinus</th>\n",
       "      <td>0.0000</td>\n",
       "      <td>0.0000</td>\n",
       "      <td>0.0000</td>\n",
       "      <td>0.1152</td>\n",
       "      <td>338.0</td>\n",
       "    </tr>\n",
       "    <tr>\n",
       "      <th>Larix</th>\n",
       "      <td>0.0000</td>\n",
       "      <td>0.0000</td>\n",
       "      <td>0.0000</td>\n",
       "      <td>0.1589</td>\n",
       "      <td>637.0</td>\n",
       "    </tr>\n",
       "    <tr>\n",
       "      <th>Picea</th>\n",
       "      <td>0.5472</td>\n",
       "      <td>0.0617</td>\n",
       "      <td>0.1110</td>\n",
       "      <td>0.4181</td>\n",
       "      <td>1409.0</td>\n",
       "    </tr>\n",
       "    <tr>\n",
       "      <th>Pinus</th>\n",
       "      <td>0.6410</td>\n",
       "      <td>0.3373</td>\n",
       "      <td>0.4420</td>\n",
       "      <td>0.5659</td>\n",
       "      <td>1355.0</td>\n",
       "    </tr>\n",
       "    <tr>\n",
       "      <th>Populus</th>\n",
       "      <td>0.0000</td>\n",
       "      <td>0.0000</td>\n",
       "      <td>0.0000</td>\n",
       "      <td>0.0302</td>\n",
       "      <td>96.0</td>\n",
       "    </tr>\n",
       "    <tr>\n",
       "      <th>Prunus</th>\n",
       "      <td>0.0000</td>\n",
       "      <td>0.0000</td>\n",
       "      <td>0.0000</td>\n",
       "      <td>0.0106</td>\n",
       "      <td>47.0</td>\n",
       "    </tr>\n",
       "    <tr>\n",
       "      <th>Pseudotsuga</th>\n",
       "      <td>0.0000</td>\n",
       "      <td>0.0000</td>\n",
       "      <td>0.0000</td>\n",
       "      <td>0.1750</td>\n",
       "      <td>575.0</td>\n",
       "    </tr>\n",
       "    <tr>\n",
       "      <th>Quercus</th>\n",
       "      <td>0.4524</td>\n",
       "      <td>0.0132</td>\n",
       "      <td>0.0256</td>\n",
       "      <td>0.3574</td>\n",
       "      <td>1443.0</td>\n",
       "    </tr>\n",
       "    <tr>\n",
       "      <th>Tilia</th>\n",
       "      <td>0.0000</td>\n",
       "      <td>0.0000</td>\n",
       "      <td>0.0000</td>\n",
       "      <td>0.0075</td>\n",
       "      <td>29.0</td>\n",
       "    </tr>\n",
       "  </tbody>\n",
       "</table>\n",
       "</div>"
      ],
      "text/plain": [
       "             precision  recall  f1-score     mAP  support\n",
       "Abies           0.0000  0.0000    0.0000  0.0648    156.0\n",
       "Acer            0.0000  0.0000    0.0000  0.1108    390.0\n",
       "Alnus           0.0000  0.0000    0.0000  0.1058    418.0\n",
       "Betula          0.0662  0.0233    0.0344  0.0914    430.0\n",
       "Cleared         0.6364  0.1762    0.2760  0.4061    715.0\n",
       "Fagus           0.5714  0.0446    0.0828  0.3921   1434.0\n",
       "Fraxinus        0.0000  0.0000    0.0000  0.1152    338.0\n",
       "Larix           0.0000  0.0000    0.0000  0.1589    637.0\n",
       "Picea           0.5472  0.0617    0.1110  0.4181   1409.0\n",
       "Pinus           0.6410  0.3373    0.4420  0.5659   1355.0\n",
       "Populus         0.0000  0.0000    0.0000  0.0302     96.0\n",
       "Prunus          0.0000  0.0000    0.0000  0.0106     47.0\n",
       "Pseudotsuga     0.0000  0.0000    0.0000  0.1750    575.0\n",
       "Quercus         0.4524  0.0132    0.0256  0.3574   1443.0\n",
       "Tilia           0.0000  0.0000    0.0000  0.0075     29.0"
      ]
     },
     "metadata": {},
     "output_type": "display_data"
    },
    {
     "data": {
      "text/html": [
       "<div>\n",
       "<style scoped>\n",
       "    .dataframe tbody tr th:only-of-type {\n",
       "        vertical-align: middle;\n",
       "    }\n",
       "\n",
       "    .dataframe tbody tr th {\n",
       "        vertical-align: top;\n",
       "    }\n",
       "\n",
       "    .dataframe thead th {\n",
       "        text-align: right;\n",
       "    }\n",
       "</style>\n",
       "<table border=\"1\" class=\"dataframe\">\n",
       "  <thead>\n",
       "    <tr style=\"text-align: right;\">\n",
       "      <th></th>\n",
       "      <th>precision</th>\n",
       "      <th>recall</th>\n",
       "      <th>f1-score</th>\n",
       "      <th>mAP</th>\n",
       "      <th>support</th>\n",
       "    </tr>\n",
       "  </thead>\n",
       "  <tbody>\n",
       "    <tr>\n",
       "      <th>micro avg</th>\n",
       "      <td>0.5549</td>\n",
       "      <td>0.0806</td>\n",
       "      <td>0.1407</td>\n",
       "      <td>0.3511</td>\n",
       "      <td>9472.0</td>\n",
       "    </tr>\n",
       "    <tr>\n",
       "      <th>macro avg</th>\n",
       "      <td>0.1943</td>\n",
       "      <td>0.0438</td>\n",
       "      <td>0.0648</td>\n",
       "      <td>0.2007</td>\n",
       "      <td>9472.0</td>\n",
       "    </tr>\n",
       "    <tr>\n",
       "      <th>weighted avg</th>\n",
       "      <td>0.3796</td>\n",
       "      <td>0.0806</td>\n",
       "      <td>0.1186</td>\n",
       "      <td>0.3279</td>\n",
       "      <td>9472.0</td>\n",
       "    </tr>\n",
       "    <tr>\n",
       "      <th>samples avg</th>\n",
       "      <td>0.1409</td>\n",
       "      <td>0.0994</td>\n",
       "      <td>0.1108</td>\n",
       "      <td>0.5474</td>\n",
       "      <td>9472.0</td>\n",
       "    </tr>\n",
       "  </tbody>\n",
       "</table>\n",
       "</div>"
      ],
      "text/plain": [
       "              precision  recall  f1-score     mAP  support\n",
       "micro avg        0.5549  0.0806    0.1407  0.3511   9472.0\n",
       "macro avg        0.1943  0.0438    0.0648  0.2007   9472.0\n",
       "weighted avg     0.3796  0.0806    0.1186  0.3279   9472.0\n",
       "samples avg      0.1409  0.0994    0.1108  0.5474   9472.0"
      ]
     },
     "metadata": {},
     "output_type": "display_data"
    }
   ],
   "source": [
    "X_train = s1_train.reshape(len(labels_train), -1)\n",
    "y_train = multilabels_train\n",
    "X_test = s1_test.reshape(len(labels_test), -1)\n",
    "y_test = multilabels_test\n",
    "train_and_eval('S1', X_train, y_train, X_test, y_test)"
   ]
  },
  {
   "cell_type": "markdown",
   "id": "b0d32ea5",
   "metadata": {},
   "source": [
    "### S2"
   ]
  },
  {
   "cell_type": "code",
   "execution_count": 56,
   "id": "06525a01",
   "metadata": {
    "ExecuteTime": {
     "end_time": "2022-07-04T20:47:04.573588Z",
     "start_time": "2022-07-04T20:11:32.633580Z"
    },
    "scrolled": false
   },
   "outputs": [
    {
     "data": {
      "text/html": [
       "<div>\n",
       "<style scoped>\n",
       "    .dataframe tbody tr th:only-of-type {\n",
       "        vertical-align: middle;\n",
       "    }\n",
       "\n",
       "    .dataframe tbody tr th {\n",
       "        vertical-align: top;\n",
       "    }\n",
       "\n",
       "    .dataframe thead th {\n",
       "        text-align: right;\n",
       "    }\n",
       "</style>\n",
       "<table border=\"1\" class=\"dataframe\">\n",
       "  <thead>\n",
       "    <tr style=\"text-align: right;\">\n",
       "      <th></th>\n",
       "      <th>precision</th>\n",
       "      <th>recall</th>\n",
       "      <th>f1-score</th>\n",
       "      <th>mAP</th>\n",
       "      <th>support</th>\n",
       "    </tr>\n",
       "  </thead>\n",
       "  <tbody>\n",
       "    <tr>\n",
       "      <th>Abies</th>\n",
       "      <td>0.7941</td>\n",
       "      <td>0.1731</td>\n",
       "      <td>0.2842</td>\n",
       "      <td>0.4571</td>\n",
       "      <td>156.0</td>\n",
       "    </tr>\n",
       "    <tr>\n",
       "      <th>Acer</th>\n",
       "      <td>0.5000</td>\n",
       "      <td>0.0359</td>\n",
       "      <td>0.0670</td>\n",
       "      <td>0.3052</td>\n",
       "      <td>390.0</td>\n",
       "    </tr>\n",
       "    <tr>\n",
       "      <th>Alnus</th>\n",
       "      <td>0.5600</td>\n",
       "      <td>0.0335</td>\n",
       "      <td>0.0632</td>\n",
       "      <td>0.2284</td>\n",
       "      <td>418.0</td>\n",
       "    </tr>\n",
       "    <tr>\n",
       "      <th>Betula</th>\n",
       "      <td>0.7179</td>\n",
       "      <td>0.0651</td>\n",
       "      <td>0.1194</td>\n",
       "      <td>0.3181</td>\n",
       "      <td>430.0</td>\n",
       "    </tr>\n",
       "    <tr>\n",
       "      <th>Cleared</th>\n",
       "      <td>0.7790</td>\n",
       "      <td>0.4042</td>\n",
       "      <td>0.5322</td>\n",
       "      <td>0.6446</td>\n",
       "      <td>715.0</td>\n",
       "    </tr>\n",
       "    <tr>\n",
       "      <th>Fagus</th>\n",
       "      <td>0.7238</td>\n",
       "      <td>0.5537</td>\n",
       "      <td>0.6274</td>\n",
       "      <td>0.7304</td>\n",
       "      <td>1434.0</td>\n",
       "    </tr>\n",
       "    <tr>\n",
       "      <th>Fraxinus</th>\n",
       "      <td>0.5238</td>\n",
       "      <td>0.0651</td>\n",
       "      <td>0.1158</td>\n",
       "      <td>0.2956</td>\n",
       "      <td>338.0</td>\n",
       "    </tr>\n",
       "    <tr>\n",
       "      <th>Larix</th>\n",
       "      <td>0.9103</td>\n",
       "      <td>0.1115</td>\n",
       "      <td>0.1986</td>\n",
       "      <td>0.4240</td>\n",
       "      <td>637.0</td>\n",
       "    </tr>\n",
       "    <tr>\n",
       "      <th>Picea</th>\n",
       "      <td>0.8114</td>\n",
       "      <td>0.6288</td>\n",
       "      <td>0.7085</td>\n",
       "      <td>0.8089</td>\n",
       "      <td>1409.0</td>\n",
       "    </tr>\n",
       "    <tr>\n",
       "      <th>Pinus</th>\n",
       "      <td>0.7885</td>\n",
       "      <td>0.6384</td>\n",
       "      <td>0.7055</td>\n",
       "      <td>0.8145</td>\n",
       "      <td>1355.0</td>\n",
       "    </tr>\n",
       "    <tr>\n",
       "      <th>Populus</th>\n",
       "      <td>1.0000</td>\n",
       "      <td>0.0104</td>\n",
       "      <td>0.0206</td>\n",
       "      <td>0.2967</td>\n",
       "      <td>96.0</td>\n",
       "    </tr>\n",
       "    <tr>\n",
       "      <th>Prunus</th>\n",
       "      <td>0.3750</td>\n",
       "      <td>0.0638</td>\n",
       "      <td>0.1091</td>\n",
       "      <td>0.1061</td>\n",
       "      <td>47.0</td>\n",
       "    </tr>\n",
       "    <tr>\n",
       "      <th>Pseudotsuga</th>\n",
       "      <td>0.7865</td>\n",
       "      <td>0.2435</td>\n",
       "      <td>0.3718</td>\n",
       "      <td>0.5332</td>\n",
       "      <td>575.0</td>\n",
       "    </tr>\n",
       "    <tr>\n",
       "      <th>Quercus</th>\n",
       "      <td>0.7237</td>\n",
       "      <td>0.4428</td>\n",
       "      <td>0.5494</td>\n",
       "      <td>0.6817</td>\n",
       "      <td>1443.0</td>\n",
       "    </tr>\n",
       "    <tr>\n",
       "      <th>Tilia</th>\n",
       "      <td>0.0000</td>\n",
       "      <td>0.0000</td>\n",
       "      <td>0.0000</td>\n",
       "      <td>0.1296</td>\n",
       "      <td>29.0</td>\n",
       "    </tr>\n",
       "  </tbody>\n",
       "</table>\n",
       "</div>"
      ],
      "text/plain": [
       "             precision  recall  f1-score     mAP  support\n",
       "Abies           0.7941  0.1731    0.2842  0.4571    156.0\n",
       "Acer            0.5000  0.0359    0.0670  0.3052    390.0\n",
       "Alnus           0.5600  0.0335    0.0632  0.2284    418.0\n",
       "Betula          0.7179  0.0651    0.1194  0.3181    430.0\n",
       "Cleared         0.7790  0.4042    0.5322  0.6446    715.0\n",
       "Fagus           0.7238  0.5537    0.6274  0.7304   1434.0\n",
       "Fraxinus        0.5238  0.0651    0.1158  0.2956    338.0\n",
       "Larix           0.9103  0.1115    0.1986  0.4240    637.0\n",
       "Picea           0.8114  0.6288    0.7085  0.8089   1409.0\n",
       "Pinus           0.7885  0.6384    0.7055  0.8145   1355.0\n",
       "Populus         1.0000  0.0104    0.0206  0.2967     96.0\n",
       "Prunus          0.3750  0.0638    0.1091  0.1061     47.0\n",
       "Pseudotsuga     0.7865  0.2435    0.3718  0.5332    575.0\n",
       "Quercus         0.7237  0.4428    0.5494  0.6817   1443.0\n",
       "Tilia           0.0000  0.0000    0.0000  0.1296     29.0"
      ]
     },
     "metadata": {},
     "output_type": "display_data"
    },
    {
     "data": {
      "text/html": [
       "<div>\n",
       "<style scoped>\n",
       "    .dataframe tbody tr th:only-of-type {\n",
       "        vertical-align: middle;\n",
       "    }\n",
       "\n",
       "    .dataframe tbody tr th {\n",
       "        vertical-align: top;\n",
       "    }\n",
       "\n",
       "    .dataframe thead th {\n",
       "        text-align: right;\n",
       "    }\n",
       "</style>\n",
       "<table border=\"1\" class=\"dataframe\">\n",
       "  <thead>\n",
       "    <tr style=\"text-align: right;\">\n",
       "      <th></th>\n",
       "      <th>precision</th>\n",
       "      <th>recall</th>\n",
       "      <th>f1-score</th>\n",
       "      <th>mAP</th>\n",
       "      <th>support</th>\n",
       "    </tr>\n",
       "  </thead>\n",
       "  <tbody>\n",
       "    <tr>\n",
       "      <th>micro avg</th>\n",
       "      <td>0.7627</td>\n",
       "      <td>0.4004</td>\n",
       "      <td>0.5252</td>\n",
       "      <td>0.6165</td>\n",
       "      <td>9472.0</td>\n",
       "    </tr>\n",
       "    <tr>\n",
       "      <th>macro avg</th>\n",
       "      <td>0.6663</td>\n",
       "      <td>0.2313</td>\n",
       "      <td>0.2982</td>\n",
       "      <td>0.4516</td>\n",
       "      <td>9472.0</td>\n",
       "    </tr>\n",
       "    <tr>\n",
       "      <th>weighted avg</th>\n",
       "      <td>0.7427</td>\n",
       "      <td>0.4004</td>\n",
       "      <td>0.4817</td>\n",
       "      <td>0.6199</td>\n",
       "      <td>9472.0</td>\n",
       "    </tr>\n",
       "    <tr>\n",
       "      <th>samples avg</th>\n",
       "      <td>0.6490</td>\n",
       "      <td>0.4739</td>\n",
       "      <td>0.5220</td>\n",
       "      <td>0.7256</td>\n",
       "      <td>9472.0</td>\n",
       "    </tr>\n",
       "  </tbody>\n",
       "</table>\n",
       "</div>"
      ],
      "text/plain": [
       "              precision  recall  f1-score     mAP  support\n",
       "micro avg        0.7627  0.4004    0.5252  0.6165   9472.0\n",
       "macro avg        0.6663  0.2313    0.2982  0.4516   9472.0\n",
       "weighted avg     0.7427  0.4004    0.4817  0.6199   9472.0\n",
       "samples avg      0.6490  0.4739    0.5220  0.7256   9472.0"
      ]
     },
     "metadata": {},
     "output_type": "display_data"
    }
   ],
   "source": [
    "X_train = s2_train.reshape(len(labels_train), -1)\n",
    "y_train = multilabels_train\n",
    "X_test = s2_test.reshape(len(labels_test), -1)\n",
    "y_test = multilabels_test\n",
    "train_and_eval('S2', X_train, y_train, X_test, y_test)"
   ]
  },
  {
   "cell_type": "markdown",
   "id": "5c9e4c4c",
   "metadata": {},
   "source": [
    "### Aerial"
   ]
  },
  {
   "cell_type": "code",
   "execution_count": 57,
   "id": "e9c69670",
   "metadata": {
    "ExecuteTime": {
     "end_time": "2022-07-04T21:26:38.412029Z",
     "start_time": "2022-07-04T20:47:04.574905Z"
    },
    "scrolled": false
   },
   "outputs": [
    {
     "data": {
      "text/html": [
       "<div>\n",
       "<style scoped>\n",
       "    .dataframe tbody tr th:only-of-type {\n",
       "        vertical-align: middle;\n",
       "    }\n",
       "\n",
       "    .dataframe tbody tr th {\n",
       "        vertical-align: top;\n",
       "    }\n",
       "\n",
       "    .dataframe thead th {\n",
       "        text-align: right;\n",
       "    }\n",
       "</style>\n",
       "<table border=\"1\" class=\"dataframe\">\n",
       "  <thead>\n",
       "    <tr style=\"text-align: right;\">\n",
       "      <th></th>\n",
       "      <th>precision</th>\n",
       "      <th>recall</th>\n",
       "      <th>f1-score</th>\n",
       "      <th>mAP</th>\n",
       "      <th>support</th>\n",
       "    </tr>\n",
       "  </thead>\n",
       "  <tbody>\n",
       "    <tr>\n",
       "      <th>Abies</th>\n",
       "      <td>0.9375</td>\n",
       "      <td>0.1923</td>\n",
       "      <td>0.3191</td>\n",
       "      <td>0.4558</td>\n",
       "      <td>156.0</td>\n",
       "    </tr>\n",
       "    <tr>\n",
       "      <th>Acer</th>\n",
       "      <td>0.5294</td>\n",
       "      <td>0.0231</td>\n",
       "      <td>0.0442</td>\n",
       "      <td>0.3108</td>\n",
       "      <td>390.0</td>\n",
       "    </tr>\n",
       "    <tr>\n",
       "      <th>Alnus</th>\n",
       "      <td>0.7188</td>\n",
       "      <td>0.0550</td>\n",
       "      <td>0.1022</td>\n",
       "      <td>0.3207</td>\n",
       "      <td>418.0</td>\n",
       "    </tr>\n",
       "    <tr>\n",
       "      <th>Betula</th>\n",
       "      <td>0.7917</td>\n",
       "      <td>0.0884</td>\n",
       "      <td>0.1590</td>\n",
       "      <td>0.3991</td>\n",
       "      <td>430.0</td>\n",
       "    </tr>\n",
       "    <tr>\n",
       "      <th>Cleared</th>\n",
       "      <td>0.8541</td>\n",
       "      <td>0.4503</td>\n",
       "      <td>0.5897</td>\n",
       "      <td>0.6806</td>\n",
       "      <td>715.0</td>\n",
       "    </tr>\n",
       "    <tr>\n",
       "      <th>Fagus</th>\n",
       "      <td>0.7364</td>\n",
       "      <td>0.4247</td>\n",
       "      <td>0.5387</td>\n",
       "      <td>0.6820</td>\n",
       "      <td>1434.0</td>\n",
       "    </tr>\n",
       "    <tr>\n",
       "      <th>Fraxinus</th>\n",
       "      <td>0.5263</td>\n",
       "      <td>0.0296</td>\n",
       "      <td>0.0560</td>\n",
       "      <td>0.3084</td>\n",
       "      <td>338.0</td>\n",
       "    </tr>\n",
       "    <tr>\n",
       "      <th>Larix</th>\n",
       "      <td>0.7667</td>\n",
       "      <td>0.0722</td>\n",
       "      <td>0.1320</td>\n",
       "      <td>0.3845</td>\n",
       "      <td>637.0</td>\n",
       "    </tr>\n",
       "    <tr>\n",
       "      <th>Picea</th>\n",
       "      <td>0.8163</td>\n",
       "      <td>0.5202</td>\n",
       "      <td>0.6355</td>\n",
       "      <td>0.7493</td>\n",
       "      <td>1409.0</td>\n",
       "    </tr>\n",
       "    <tr>\n",
       "      <th>Pinus</th>\n",
       "      <td>0.8298</td>\n",
       "      <td>0.5469</td>\n",
       "      <td>0.6593</td>\n",
       "      <td>0.7880</td>\n",
       "      <td>1355.0</td>\n",
       "    </tr>\n",
       "    <tr>\n",
       "      <th>Populus</th>\n",
       "      <td>0.3333</td>\n",
       "      <td>0.0104</td>\n",
       "      <td>0.0202</td>\n",
       "      <td>0.2717</td>\n",
       "      <td>96.0</td>\n",
       "    </tr>\n",
       "    <tr>\n",
       "      <th>Prunus</th>\n",
       "      <td>1.0000</td>\n",
       "      <td>0.0426</td>\n",
       "      <td>0.0816</td>\n",
       "      <td>0.1253</td>\n",
       "      <td>47.0</td>\n",
       "    </tr>\n",
       "    <tr>\n",
       "      <th>Pseudotsuga</th>\n",
       "      <td>0.8582</td>\n",
       "      <td>0.2000</td>\n",
       "      <td>0.3244</td>\n",
       "      <td>0.4968</td>\n",
       "      <td>575.0</td>\n",
       "    </tr>\n",
       "    <tr>\n",
       "      <th>Quercus</th>\n",
       "      <td>0.7181</td>\n",
       "      <td>0.3742</td>\n",
       "      <td>0.4920</td>\n",
       "      <td>0.6438</td>\n",
       "      <td>1443.0</td>\n",
       "    </tr>\n",
       "    <tr>\n",
       "      <th>Tilia</th>\n",
       "      <td>0.0000</td>\n",
       "      <td>0.0000</td>\n",
       "      <td>0.0000</td>\n",
       "      <td>0.1791</td>\n",
       "      <td>29.0</td>\n",
       "    </tr>\n",
       "  </tbody>\n",
       "</table>\n",
       "</div>"
      ],
      "text/plain": [
       "             precision  recall  f1-score     mAP  support\n",
       "Abies           0.9375  0.1923    0.3191  0.4558    156.0\n",
       "Acer            0.5294  0.0231    0.0442  0.3108    390.0\n",
       "Alnus           0.7188  0.0550    0.1022  0.3207    418.0\n",
       "Betula          0.7917  0.0884    0.1590  0.3991    430.0\n",
       "Cleared         0.8541  0.4503    0.5897  0.6806    715.0\n",
       "Fagus           0.7364  0.4247    0.5387  0.6820   1434.0\n",
       "Fraxinus        0.5263  0.0296    0.0560  0.3084    338.0\n",
       "Larix           0.7667  0.0722    0.1320  0.3845    637.0\n",
       "Picea           0.8163  0.5202    0.6355  0.7493   1409.0\n",
       "Pinus           0.8298  0.5469    0.6593  0.7880   1355.0\n",
       "Populus         0.3333  0.0104    0.0202  0.2717     96.0\n",
       "Prunus          1.0000  0.0426    0.0816  0.1253     47.0\n",
       "Pseudotsuga     0.8582  0.2000    0.3244  0.4968    575.0\n",
       "Quercus         0.7181  0.3742    0.4920  0.6438   1443.0\n",
       "Tilia           0.0000  0.0000    0.0000  0.1791     29.0"
      ]
     },
     "metadata": {},
     "output_type": "display_data"
    },
    {
     "data": {
      "text/html": [
       "<div>\n",
       "<style scoped>\n",
       "    .dataframe tbody tr th:only-of-type {\n",
       "        vertical-align: middle;\n",
       "    }\n",
       "\n",
       "    .dataframe tbody tr th {\n",
       "        vertical-align: top;\n",
       "    }\n",
       "\n",
       "    .dataframe thead th {\n",
       "        text-align: right;\n",
       "    }\n",
       "</style>\n",
       "<table border=\"1\" class=\"dataframe\">\n",
       "  <thead>\n",
       "    <tr style=\"text-align: right;\">\n",
       "      <th></th>\n",
       "      <th>precision</th>\n",
       "      <th>recall</th>\n",
       "      <th>f1-score</th>\n",
       "      <th>mAP</th>\n",
       "      <th>support</th>\n",
       "    </tr>\n",
       "  </thead>\n",
       "  <tbody>\n",
       "    <tr>\n",
       "      <th>micro avg</th>\n",
       "      <td>0.7863</td>\n",
       "      <td>0.3398</td>\n",
       "      <td>0.4746</td>\n",
       "      <td>0.5798</td>\n",
       "      <td>9472.0</td>\n",
       "    </tr>\n",
       "    <tr>\n",
       "      <th>macro avg</th>\n",
       "      <td>0.6944</td>\n",
       "      <td>0.2020</td>\n",
       "      <td>0.2769</td>\n",
       "      <td>0.4531</td>\n",
       "      <td>9472.0</td>\n",
       "    </tr>\n",
       "    <tr>\n",
       "      <th>weighted avg</th>\n",
       "      <td>0.7612</td>\n",
       "      <td>0.3398</td>\n",
       "      <td>0.4398</td>\n",
       "      <td>0.6004</td>\n",
       "      <td>9472.0</td>\n",
       "    </tr>\n",
       "    <tr>\n",
       "      <th>samples avg</th>\n",
       "      <td>0.5858</td>\n",
       "      <td>0.4144</td>\n",
       "      <td>0.4627</td>\n",
       "      <td>0.7018</td>\n",
       "      <td>9472.0</td>\n",
       "    </tr>\n",
       "  </tbody>\n",
       "</table>\n",
       "</div>"
      ],
      "text/plain": [
       "              precision  recall  f1-score     mAP  support\n",
       "micro avg        0.7863  0.3398    0.4746  0.5798   9472.0\n",
       "macro avg        0.6944  0.2020    0.2769  0.4531   9472.0\n",
       "weighted avg     0.7612  0.3398    0.4398  0.6004   9472.0\n",
       "samples avg      0.5858  0.4144    0.4627  0.7018   9472.0"
      ]
     },
     "metadata": {},
     "output_type": "display_data"
    }
   ],
   "source": [
    "X_train = feats_aerial_train\n",
    "y_train = multilabels_train\n",
    "X_test = feats_aerial_test\n",
    "y_test = multilabels_test\n",
    "train_and_eval('A', X_train, y_train, X_test, y_test)"
   ]
  },
  {
   "cell_type": "markdown",
   "id": "b0334f00",
   "metadata": {},
   "source": [
    "## combined"
   ]
  },
  {
   "cell_type": "markdown",
   "id": "95931370",
   "metadata": {},
   "source": [
    "### S1 + S2"
   ]
  },
  {
   "cell_type": "code",
   "execution_count": 58,
   "id": "61f33395",
   "metadata": {
    "ExecuteTime": {
     "end_time": "2022-07-04T22:09:40.427670Z",
     "start_time": "2022-07-04T21:26:38.413518Z"
    }
   },
   "outputs": [
    {
     "data": {
      "text/html": [
       "<div>\n",
       "<style scoped>\n",
       "    .dataframe tbody tr th:only-of-type {\n",
       "        vertical-align: middle;\n",
       "    }\n",
       "\n",
       "    .dataframe tbody tr th {\n",
       "        vertical-align: top;\n",
       "    }\n",
       "\n",
       "    .dataframe thead th {\n",
       "        text-align: right;\n",
       "    }\n",
       "</style>\n",
       "<table border=\"1\" class=\"dataframe\">\n",
       "  <thead>\n",
       "    <tr style=\"text-align: right;\">\n",
       "      <th></th>\n",
       "      <th>precision</th>\n",
       "      <th>recall</th>\n",
       "      <th>f1-score</th>\n",
       "      <th>mAP</th>\n",
       "      <th>support</th>\n",
       "    </tr>\n",
       "  </thead>\n",
       "  <tbody>\n",
       "    <tr>\n",
       "      <th>Abies</th>\n",
       "      <td>0.9167</td>\n",
       "      <td>0.1410</td>\n",
       "      <td>0.2444</td>\n",
       "      <td>0.4512</td>\n",
       "      <td>156.0</td>\n",
       "    </tr>\n",
       "    <tr>\n",
       "      <th>Acer</th>\n",
       "      <td>0.5000</td>\n",
       "      <td>0.0282</td>\n",
       "      <td>0.0534</td>\n",
       "      <td>0.2768</td>\n",
       "      <td>390.0</td>\n",
       "    </tr>\n",
       "    <tr>\n",
       "      <th>Alnus</th>\n",
       "      <td>1.0000</td>\n",
       "      <td>0.0120</td>\n",
       "      <td>0.0236</td>\n",
       "      <td>0.2948</td>\n",
       "      <td>418.0</td>\n",
       "    </tr>\n",
       "    <tr>\n",
       "      <th>Betula</th>\n",
       "      <td>0.6061</td>\n",
       "      <td>0.0465</td>\n",
       "      <td>0.0864</td>\n",
       "      <td>0.2481</td>\n",
       "      <td>430.0</td>\n",
       "    </tr>\n",
       "    <tr>\n",
       "      <th>Cleared</th>\n",
       "      <td>0.7912</td>\n",
       "      <td>0.4028</td>\n",
       "      <td>0.5338</td>\n",
       "      <td>0.6527</td>\n",
       "      <td>715.0</td>\n",
       "    </tr>\n",
       "    <tr>\n",
       "      <th>Fagus</th>\n",
       "      <td>0.7353</td>\n",
       "      <td>0.5404</td>\n",
       "      <td>0.6230</td>\n",
       "      <td>0.7369</td>\n",
       "      <td>1434.0</td>\n",
       "    </tr>\n",
       "    <tr>\n",
       "      <th>Fraxinus</th>\n",
       "      <td>0.0000</td>\n",
       "      <td>0.0000</td>\n",
       "      <td>0.0000</td>\n",
       "      <td>0.2536</td>\n",
       "      <td>338.0</td>\n",
       "    </tr>\n",
       "    <tr>\n",
       "      <th>Larix</th>\n",
       "      <td>0.8947</td>\n",
       "      <td>0.1068</td>\n",
       "      <td>0.1907</td>\n",
       "      <td>0.4286</td>\n",
       "      <td>637.0</td>\n",
       "    </tr>\n",
       "    <tr>\n",
       "      <th>Picea</th>\n",
       "      <td>0.8196</td>\n",
       "      <td>0.6125</td>\n",
       "      <td>0.7011</td>\n",
       "      <td>0.8027</td>\n",
       "      <td>1409.0</td>\n",
       "    </tr>\n",
       "    <tr>\n",
       "      <th>Pinus</th>\n",
       "      <td>0.7982</td>\n",
       "      <td>0.6568</td>\n",
       "      <td>0.7206</td>\n",
       "      <td>0.8210</td>\n",
       "      <td>1355.0</td>\n",
       "    </tr>\n",
       "    <tr>\n",
       "      <th>Populus</th>\n",
       "      <td>1.0000</td>\n",
       "      <td>0.0104</td>\n",
       "      <td>0.0206</td>\n",
       "      <td>0.3147</td>\n",
       "      <td>96.0</td>\n",
       "    </tr>\n",
       "    <tr>\n",
       "      <th>Prunus</th>\n",
       "      <td>0.0000</td>\n",
       "      <td>0.0000</td>\n",
       "      <td>0.0000</td>\n",
       "      <td>0.0385</td>\n",
       "      <td>47.0</td>\n",
       "    </tr>\n",
       "    <tr>\n",
       "      <th>Pseudotsuga</th>\n",
       "      <td>0.7772</td>\n",
       "      <td>0.2609</td>\n",
       "      <td>0.3906</td>\n",
       "      <td>0.5438</td>\n",
       "      <td>575.0</td>\n",
       "    </tr>\n",
       "    <tr>\n",
       "      <th>Quercus</th>\n",
       "      <td>0.7485</td>\n",
       "      <td>0.4373</td>\n",
       "      <td>0.5521</td>\n",
       "      <td>0.6919</td>\n",
       "      <td>1443.0</td>\n",
       "    </tr>\n",
       "    <tr>\n",
       "      <th>Tilia</th>\n",
       "      <td>0.0000</td>\n",
       "      <td>0.0000</td>\n",
       "      <td>0.0000</td>\n",
       "      <td>0.0612</td>\n",
       "      <td>29.0</td>\n",
       "    </tr>\n",
       "  </tbody>\n",
       "</table>\n",
       "</div>"
      ],
      "text/plain": [
       "             precision  recall  f1-score     mAP  support\n",
       "Abies           0.9167  0.1410    0.2444  0.4512    156.0\n",
       "Acer            0.5000  0.0282    0.0534  0.2768    390.0\n",
       "Alnus           1.0000  0.0120    0.0236  0.2948    418.0\n",
       "Betula          0.6061  0.0465    0.0864  0.2481    430.0\n",
       "Cleared         0.7912  0.4028    0.5338  0.6527    715.0\n",
       "Fagus           0.7353  0.5404    0.6230  0.7369   1434.0\n",
       "Fraxinus        0.0000  0.0000    0.0000  0.2536    338.0\n",
       "Larix           0.8947  0.1068    0.1907  0.4286    637.0\n",
       "Picea           0.8196  0.6125    0.7011  0.8027   1409.0\n",
       "Pinus           0.7982  0.6568    0.7206  0.8210   1355.0\n",
       "Populus         1.0000  0.0104    0.0206  0.3147     96.0\n",
       "Prunus          0.0000  0.0000    0.0000  0.0385     47.0\n",
       "Pseudotsuga     0.7772  0.2609    0.3906  0.5438    575.0\n",
       "Quercus         0.7485  0.4373    0.5521  0.6919   1443.0\n",
       "Tilia           0.0000  0.0000    0.0000  0.0612     29.0"
      ]
     },
     "metadata": {},
     "output_type": "display_data"
    },
    {
     "data": {
      "text/html": [
       "<div>\n",
       "<style scoped>\n",
       "    .dataframe tbody tr th:only-of-type {\n",
       "        vertical-align: middle;\n",
       "    }\n",
       "\n",
       "    .dataframe tbody tr th {\n",
       "        vertical-align: top;\n",
       "    }\n",
       "\n",
       "    .dataframe thead th {\n",
       "        text-align: right;\n",
       "    }\n",
       "</style>\n",
       "<table border=\"1\" class=\"dataframe\">\n",
       "  <thead>\n",
       "    <tr style=\"text-align: right;\">\n",
       "      <th></th>\n",
       "      <th>precision</th>\n",
       "      <th>recall</th>\n",
       "      <th>f1-score</th>\n",
       "      <th>mAP</th>\n",
       "      <th>support</th>\n",
       "    </tr>\n",
       "  </thead>\n",
       "  <tbody>\n",
       "    <tr>\n",
       "      <th>micro avg</th>\n",
       "      <td>0.7758</td>\n",
       "      <td>0.3932</td>\n",
       "      <td>0.5219</td>\n",
       "      <td>0.6010</td>\n",
       "      <td>9472.0</td>\n",
       "    </tr>\n",
       "    <tr>\n",
       "      <th>macro avg</th>\n",
       "      <td>0.6392</td>\n",
       "      <td>0.2170</td>\n",
       "      <td>0.2760</td>\n",
       "      <td>0.4411</td>\n",
       "      <td>9472.0</td>\n",
       "    </tr>\n",
       "    <tr>\n",
       "      <th>weighted avg</th>\n",
       "      <td>0.7460</td>\n",
       "      <td>0.3932</td>\n",
       "      <td>0.4740</td>\n",
       "      <td>0.6206</td>\n",
       "      <td>9472.0</td>\n",
       "    </tr>\n",
       "    <tr>\n",
       "      <th>samples avg</th>\n",
       "      <td>0.6469</td>\n",
       "      <td>0.4653</td>\n",
       "      <td>0.5160</td>\n",
       "      <td>0.7129</td>\n",
       "      <td>9472.0</td>\n",
       "    </tr>\n",
       "  </tbody>\n",
       "</table>\n",
       "</div>"
      ],
      "text/plain": [
       "              precision  recall  f1-score     mAP  support\n",
       "micro avg        0.7758  0.3932    0.5219  0.6010   9472.0\n",
       "macro avg        0.6392  0.2170    0.2760  0.4411   9472.0\n",
       "weighted avg     0.7460  0.3932    0.4740  0.6206   9472.0\n",
       "samples avg      0.6469  0.4653    0.5160  0.7129   9472.0"
      ]
     },
     "metadata": {},
     "output_type": "display_data"
    }
   ],
   "source": [
    "X_train = np.hstack((s1_train.reshape(len(labels_train), -1), s2_train.reshape(len(labels_train), -1)))\n",
    "y_train = multilabels_train\n",
    "X_test = np.hstack((s1_test.reshape(len(labels_test), -1), s2_test.reshape(len(labels_test), -1)))\n",
    "y_test = multilabels_test\n",
    "train_and_eval('S1 + S2', X_train, y_train, X_test, y_test)"
   ]
  },
  {
   "cell_type": "markdown",
   "id": "5ff8661a",
   "metadata": {},
   "source": [
    "### Aerial + S1"
   ]
  },
  {
   "cell_type": "code",
   "execution_count": 59,
   "id": "7ad3d3a9",
   "metadata": {
    "ExecuteTime": {
     "end_time": "2022-07-04T22:47:43.270519Z",
     "start_time": "2022-07-04T22:09:40.429091Z"
    }
   },
   "outputs": [
    {
     "data": {
      "text/html": [
       "<div>\n",
       "<style scoped>\n",
       "    .dataframe tbody tr th:only-of-type {\n",
       "        vertical-align: middle;\n",
       "    }\n",
       "\n",
       "    .dataframe tbody tr th {\n",
       "        vertical-align: top;\n",
       "    }\n",
       "\n",
       "    .dataframe thead th {\n",
       "        text-align: right;\n",
       "    }\n",
       "</style>\n",
       "<table border=\"1\" class=\"dataframe\">\n",
       "  <thead>\n",
       "    <tr style=\"text-align: right;\">\n",
       "      <th></th>\n",
       "      <th>precision</th>\n",
       "      <th>recall</th>\n",
       "      <th>f1-score</th>\n",
       "      <th>mAP</th>\n",
       "      <th>support</th>\n",
       "    </tr>\n",
       "  </thead>\n",
       "  <tbody>\n",
       "    <tr>\n",
       "      <th>Abies</th>\n",
       "      <td>0.8333</td>\n",
       "      <td>0.2564</td>\n",
       "      <td>0.3922</td>\n",
       "      <td>0.4383</td>\n",
       "      <td>156.0</td>\n",
       "    </tr>\n",
       "    <tr>\n",
       "      <th>Acer</th>\n",
       "      <td>0.5152</td>\n",
       "      <td>0.0436</td>\n",
       "      <td>0.0804</td>\n",
       "      <td>0.2777</td>\n",
       "      <td>390.0</td>\n",
       "    </tr>\n",
       "    <tr>\n",
       "      <th>Alnus</th>\n",
       "      <td>0.8667</td>\n",
       "      <td>0.0311</td>\n",
       "      <td>0.0600</td>\n",
       "      <td>0.2473</td>\n",
       "      <td>418.0</td>\n",
       "    </tr>\n",
       "    <tr>\n",
       "      <th>Betula</th>\n",
       "      <td>0.7917</td>\n",
       "      <td>0.1326</td>\n",
       "      <td>0.2271</td>\n",
       "      <td>0.3885</td>\n",
       "      <td>430.0</td>\n",
       "    </tr>\n",
       "    <tr>\n",
       "      <th>Cleared</th>\n",
       "      <td>0.8380</td>\n",
       "      <td>0.4196</td>\n",
       "      <td>0.5592</td>\n",
       "      <td>0.6495</td>\n",
       "      <td>715.0</td>\n",
       "    </tr>\n",
       "    <tr>\n",
       "      <th>Fagus</th>\n",
       "      <td>0.7476</td>\n",
       "      <td>0.4421</td>\n",
       "      <td>0.5557</td>\n",
       "      <td>0.6865</td>\n",
       "      <td>1434.0</td>\n",
       "    </tr>\n",
       "    <tr>\n",
       "      <th>Fraxinus</th>\n",
       "      <td>0.4490</td>\n",
       "      <td>0.0651</td>\n",
       "      <td>0.1137</td>\n",
       "      <td>0.2633</td>\n",
       "      <td>338.0</td>\n",
       "    </tr>\n",
       "    <tr>\n",
       "      <th>Larix</th>\n",
       "      <td>0.8125</td>\n",
       "      <td>0.1020</td>\n",
       "      <td>0.1813</td>\n",
       "      <td>0.4040</td>\n",
       "      <td>637.0</td>\n",
       "    </tr>\n",
       "    <tr>\n",
       "      <th>Picea</th>\n",
       "      <td>0.7972</td>\n",
       "      <td>0.4493</td>\n",
       "      <td>0.5747</td>\n",
       "      <td>0.7059</td>\n",
       "      <td>1409.0</td>\n",
       "    </tr>\n",
       "    <tr>\n",
       "      <th>Pinus</th>\n",
       "      <td>0.8365</td>\n",
       "      <td>0.5852</td>\n",
       "      <td>0.6887</td>\n",
       "      <td>0.8084</td>\n",
       "      <td>1355.0</td>\n",
       "    </tr>\n",
       "    <tr>\n",
       "      <th>Populus</th>\n",
       "      <td>0.8333</td>\n",
       "      <td>0.0521</td>\n",
       "      <td>0.0980</td>\n",
       "      <td>0.2810</td>\n",
       "      <td>96.0</td>\n",
       "    </tr>\n",
       "    <tr>\n",
       "      <th>Prunus</th>\n",
       "      <td>0.2000</td>\n",
       "      <td>0.0213</td>\n",
       "      <td>0.0385</td>\n",
       "      <td>0.0816</td>\n",
       "      <td>47.0</td>\n",
       "    </tr>\n",
       "    <tr>\n",
       "      <th>Pseudotsuga</th>\n",
       "      <td>0.7385</td>\n",
       "      <td>0.1670</td>\n",
       "      <td>0.2723</td>\n",
       "      <td>0.4304</td>\n",
       "      <td>575.0</td>\n",
       "    </tr>\n",
       "    <tr>\n",
       "      <th>Quercus</th>\n",
       "      <td>0.6885</td>\n",
       "      <td>0.4075</td>\n",
       "      <td>0.5120</td>\n",
       "      <td>0.6243</td>\n",
       "      <td>1443.0</td>\n",
       "    </tr>\n",
       "    <tr>\n",
       "      <th>Tilia</th>\n",
       "      <td>0.5000</td>\n",
       "      <td>0.0345</td>\n",
       "      <td>0.0645</td>\n",
       "      <td>0.1031</td>\n",
       "      <td>29.0</td>\n",
       "    </tr>\n",
       "  </tbody>\n",
       "</table>\n",
       "</div>"
      ],
      "text/plain": [
       "             precision  recall  f1-score     mAP  support\n",
       "Abies           0.8333  0.2564    0.3922  0.4383    156.0\n",
       "Acer            0.5152  0.0436    0.0804  0.2777    390.0\n",
       "Alnus           0.8667  0.0311    0.0600  0.2473    418.0\n",
       "Betula          0.7917  0.1326    0.2271  0.3885    430.0\n",
       "Cleared         0.8380  0.4196    0.5592  0.6495    715.0\n",
       "Fagus           0.7476  0.4421    0.5557  0.6865   1434.0\n",
       "Fraxinus        0.4490  0.0651    0.1137  0.2633    338.0\n",
       "Larix           0.8125  0.1020    0.1813  0.4040    637.0\n",
       "Picea           0.7972  0.4493    0.5747  0.7059   1409.0\n",
       "Pinus           0.8365  0.5852    0.6887  0.8084   1355.0\n",
       "Populus         0.8333  0.0521    0.0980  0.2810     96.0\n",
       "Prunus          0.2000  0.0213    0.0385  0.0816     47.0\n",
       "Pseudotsuga     0.7385  0.1670    0.2723  0.4304    575.0\n",
       "Quercus         0.6885  0.4075    0.5120  0.6243   1443.0\n",
       "Tilia           0.5000  0.0345    0.0645  0.1031     29.0"
      ]
     },
     "metadata": {},
     "output_type": "display_data"
    },
    {
     "data": {
      "text/html": [
       "<div>\n",
       "<style scoped>\n",
       "    .dataframe tbody tr th:only-of-type {\n",
       "        vertical-align: middle;\n",
       "    }\n",
       "\n",
       "    .dataframe tbody tr th {\n",
       "        vertical-align: top;\n",
       "    }\n",
       "\n",
       "    .dataframe thead th {\n",
       "        text-align: right;\n",
       "    }\n",
       "</style>\n",
       "<table border=\"1\" class=\"dataframe\">\n",
       "  <thead>\n",
       "    <tr style=\"text-align: right;\">\n",
       "      <th></th>\n",
       "      <th>precision</th>\n",
       "      <th>recall</th>\n",
       "      <th>f1-score</th>\n",
       "      <th>mAP</th>\n",
       "      <th>support</th>\n",
       "    </tr>\n",
       "  </thead>\n",
       "  <tbody>\n",
       "    <tr>\n",
       "      <th>micro avg</th>\n",
       "      <td>0.7697</td>\n",
       "      <td>0.3447</td>\n",
       "      <td>0.4762</td>\n",
       "      <td>0.5711</td>\n",
       "      <td>9472.0</td>\n",
       "    </tr>\n",
       "    <tr>\n",
       "      <th>macro avg</th>\n",
       "      <td>0.6965</td>\n",
       "      <td>0.2140</td>\n",
       "      <td>0.2945</td>\n",
       "      <td>0.4260</td>\n",
       "      <td>9472.0</td>\n",
       "    </tr>\n",
       "    <tr>\n",
       "      <th>weighted avg</th>\n",
       "      <td>0.7552</td>\n",
       "      <td>0.3447</td>\n",
       "      <td>0.4452</td>\n",
       "      <td>0.5822</td>\n",
       "      <td>9472.0</td>\n",
       "    </tr>\n",
       "    <tr>\n",
       "      <th>samples avg</th>\n",
       "      <td>0.5836</td>\n",
       "      <td>0.4223</td>\n",
       "      <td>0.4660</td>\n",
       "      <td>0.7030</td>\n",
       "      <td>9472.0</td>\n",
       "    </tr>\n",
       "  </tbody>\n",
       "</table>\n",
       "</div>"
      ],
      "text/plain": [
       "              precision  recall  f1-score     mAP  support\n",
       "micro avg        0.7697  0.3447    0.4762  0.5711   9472.0\n",
       "macro avg        0.6965  0.2140    0.2945  0.4260   9472.0\n",
       "weighted avg     0.7552  0.3447    0.4452  0.5822   9472.0\n",
       "samples avg      0.5836  0.4223    0.4660  0.7030   9472.0"
      ]
     },
     "metadata": {},
     "output_type": "display_data"
    }
   ],
   "source": [
    "X_train = np.hstack((feats_aerial_train, s1_train.reshape(len(labels_train), -1)))\n",
    "y_train = multilabels_train\n",
    "X_test = np.hstack((feats_aerial_test, s1_test.reshape(len(labels_test), -1)))\n",
    "y_test = multilabels_test\n",
    "train_and_eval('A + S1', X_train, y_train, X_test, y_test)"
   ]
  },
  {
   "cell_type": "markdown",
   "id": "5438037e",
   "metadata": {},
   "source": [
    "### Aerial + S2"
   ]
  },
  {
   "cell_type": "code",
   "execution_count": 79,
   "id": "d078246a",
   "metadata": {
    "ExecuteTime": {
     "end_time": "2022-07-04T23:47:21.543736Z",
     "start_time": "2022-07-04T23:04:51.436480Z"
    },
    "scrolled": false
   },
   "outputs": [
    {
     "data": {
      "text/html": [
       "<div>\n",
       "<style scoped>\n",
       "    .dataframe tbody tr th:only-of-type {\n",
       "        vertical-align: middle;\n",
       "    }\n",
       "\n",
       "    .dataframe tbody tr th {\n",
       "        vertical-align: top;\n",
       "    }\n",
       "\n",
       "    .dataframe thead th {\n",
       "        text-align: right;\n",
       "    }\n",
       "</style>\n",
       "<table border=\"1\" class=\"dataframe\">\n",
       "  <thead>\n",
       "    <tr style=\"text-align: right;\">\n",
       "      <th></th>\n",
       "      <th>precision</th>\n",
       "      <th>recall</th>\n",
       "      <th>f1-score</th>\n",
       "      <th>mAP</th>\n",
       "      <th>support</th>\n",
       "    </tr>\n",
       "  </thead>\n",
       "  <tbody>\n",
       "    <tr>\n",
       "      <th>Abies</th>\n",
       "      <td>0.9000</td>\n",
       "      <td>0.2885</td>\n",
       "      <td>0.4369</td>\n",
       "      <td>0.5812</td>\n",
       "      <td>156.0</td>\n",
       "    </tr>\n",
       "    <tr>\n",
       "      <th>Acer</th>\n",
       "      <td>0.6486</td>\n",
       "      <td>0.0615</td>\n",
       "      <td>0.1124</td>\n",
       "      <td>0.3716</td>\n",
       "      <td>390.0</td>\n",
       "    </tr>\n",
       "    <tr>\n",
       "      <th>Alnus</th>\n",
       "      <td>0.8222</td>\n",
       "      <td>0.0885</td>\n",
       "      <td>0.1598</td>\n",
       "      <td>0.4301</td>\n",
       "      <td>418.0</td>\n",
       "    </tr>\n",
       "    <tr>\n",
       "      <th>Betula</th>\n",
       "      <td>0.8194</td>\n",
       "      <td>0.1372</td>\n",
       "      <td>0.2351</td>\n",
       "      <td>0.4570</td>\n",
       "      <td>430.0</td>\n",
       "    </tr>\n",
       "    <tr>\n",
       "      <th>Cleared</th>\n",
       "      <td>0.8651</td>\n",
       "      <td>0.4126</td>\n",
       "      <td>0.5587</td>\n",
       "      <td>0.7015</td>\n",
       "      <td>715.0</td>\n",
       "    </tr>\n",
       "    <tr>\n",
       "      <th>Fagus</th>\n",
       "      <td>0.7649</td>\n",
       "      <td>0.5990</td>\n",
       "      <td>0.6719</td>\n",
       "      <td>0.7787</td>\n",
       "      <td>1434.0</td>\n",
       "    </tr>\n",
       "    <tr>\n",
       "      <th>Fraxinus</th>\n",
       "      <td>0.5893</td>\n",
       "      <td>0.0976</td>\n",
       "      <td>0.1675</td>\n",
       "      <td>0.3790</td>\n",
       "      <td>338.0</td>\n",
       "    </tr>\n",
       "    <tr>\n",
       "      <th>Larix</th>\n",
       "      <td>0.8735</td>\n",
       "      <td>0.2276</td>\n",
       "      <td>0.3611</td>\n",
       "      <td>0.5298</td>\n",
       "      <td>637.0</td>\n",
       "    </tr>\n",
       "    <tr>\n",
       "      <th>Picea</th>\n",
       "      <td>0.8610</td>\n",
       "      <td>0.6416</td>\n",
       "      <td>0.7353</td>\n",
       "      <td>0.8368</td>\n",
       "      <td>1409.0</td>\n",
       "    </tr>\n",
       "    <tr>\n",
       "      <th>Pinus</th>\n",
       "      <td>0.8434</td>\n",
       "      <td>0.6716</td>\n",
       "      <td>0.7477</td>\n",
       "      <td>0.8594</td>\n",
       "      <td>1355.0</td>\n",
       "    </tr>\n",
       "    <tr>\n",
       "      <th>Populus</th>\n",
       "      <td>1.0000</td>\n",
       "      <td>0.0312</td>\n",
       "      <td>0.0606</td>\n",
       "      <td>0.4923</td>\n",
       "      <td>96.0</td>\n",
       "    </tr>\n",
       "    <tr>\n",
       "      <th>Prunus</th>\n",
       "      <td>0.6667</td>\n",
       "      <td>0.0426</td>\n",
       "      <td>0.0800</td>\n",
       "      <td>0.1974</td>\n",
       "      <td>47.0</td>\n",
       "    </tr>\n",
       "    <tr>\n",
       "      <th>Pseudotsuga</th>\n",
       "      <td>0.8217</td>\n",
       "      <td>0.3287</td>\n",
       "      <td>0.4696</td>\n",
       "      <td>0.6174</td>\n",
       "      <td>575.0</td>\n",
       "    </tr>\n",
       "    <tr>\n",
       "      <th>Quercus</th>\n",
       "      <td>0.7740</td>\n",
       "      <td>0.5149</td>\n",
       "      <td>0.6184</td>\n",
       "      <td>0.7504</td>\n",
       "      <td>1443.0</td>\n",
       "    </tr>\n",
       "    <tr>\n",
       "      <th>Tilia</th>\n",
       "      <td>1.0000</td>\n",
       "      <td>0.0345</td>\n",
       "      <td>0.0667</td>\n",
       "      <td>0.3360</td>\n",
       "      <td>29.0</td>\n",
       "    </tr>\n",
       "  </tbody>\n",
       "</table>\n",
       "</div>"
      ],
      "text/plain": [
       "             precision  recall  f1-score     mAP  support\n",
       "Abies           0.9000  0.2885    0.4369  0.5812    156.0\n",
       "Acer            0.6486  0.0615    0.1124  0.3716    390.0\n",
       "Alnus           0.8222  0.0885    0.1598  0.4301    418.0\n",
       "Betula          0.8194  0.1372    0.2351  0.4570    430.0\n",
       "Cleared         0.8651  0.4126    0.5587  0.7015    715.0\n",
       "Fagus           0.7649  0.5990    0.6719  0.7787   1434.0\n",
       "Fraxinus        0.5893  0.0976    0.1675  0.3790    338.0\n",
       "Larix           0.8735  0.2276    0.3611  0.5298    637.0\n",
       "Picea           0.8610  0.6416    0.7353  0.8368   1409.0\n",
       "Pinus           0.8434  0.6716    0.7477  0.8594   1355.0\n",
       "Populus         1.0000  0.0312    0.0606  0.4923     96.0\n",
       "Prunus          0.6667  0.0426    0.0800  0.1974     47.0\n",
       "Pseudotsuga     0.8217  0.3287    0.4696  0.6174    575.0\n",
       "Quercus         0.7740  0.5149    0.6184  0.7504   1443.0\n",
       "Tilia           1.0000  0.0345    0.0667  0.3360     29.0"
      ]
     },
     "metadata": {},
     "output_type": "display_data"
    },
    {
     "data": {
      "text/html": [
       "<div>\n",
       "<style scoped>\n",
       "    .dataframe tbody tr th:only-of-type {\n",
       "        vertical-align: middle;\n",
       "    }\n",
       "\n",
       "    .dataframe tbody tr th {\n",
       "        vertical-align: top;\n",
       "    }\n",
       "\n",
       "    .dataframe thead th {\n",
       "        text-align: right;\n",
       "    }\n",
       "</style>\n",
       "<table border=\"1\" class=\"dataframe\">\n",
       "  <thead>\n",
       "    <tr style=\"text-align: right;\">\n",
       "      <th></th>\n",
       "      <th>precision</th>\n",
       "      <th>recall</th>\n",
       "      <th>f1-score</th>\n",
       "      <th>mAP</th>\n",
       "      <th>support</th>\n",
       "    </tr>\n",
       "  </thead>\n",
       "  <tbody>\n",
       "    <tr>\n",
       "      <th>micro avg</th>\n",
       "      <td>0.8146</td>\n",
       "      <td>0.4486</td>\n",
       "      <td>0.5786</td>\n",
       "      <td>0.6941</td>\n",
       "      <td>9472.0</td>\n",
       "    </tr>\n",
       "    <tr>\n",
       "      <th>macro avg</th>\n",
       "      <td>0.8167</td>\n",
       "      <td>0.2785</td>\n",
       "      <td>0.3654</td>\n",
       "      <td>0.5546</td>\n",
       "      <td>9472.0</td>\n",
       "    </tr>\n",
       "    <tr>\n",
       "      <th>weighted avg</th>\n",
       "      <td>0.8089</td>\n",
       "      <td>0.4486</td>\n",
       "      <td>0.5440</td>\n",
       "      <td>0.6908</td>\n",
       "      <td>9472.0</td>\n",
       "    </tr>\n",
       "    <tr>\n",
       "      <th>samples avg</th>\n",
       "      <td>0.7205</td>\n",
       "      <td>0.5306</td>\n",
       "      <td>0.5832</td>\n",
       "      <td>0.7853</td>\n",
       "      <td>9472.0</td>\n",
       "    </tr>\n",
       "  </tbody>\n",
       "</table>\n",
       "</div>"
      ],
      "text/plain": [
       "              precision  recall  f1-score     mAP  support\n",
       "micro avg        0.8146  0.4486    0.5786  0.6941   9472.0\n",
       "macro avg        0.8167  0.2785    0.3654  0.5546   9472.0\n",
       "weighted avg     0.8089  0.4486    0.5440  0.6908   9472.0\n",
       "samples avg      0.7205  0.5306    0.5832  0.7853   9472.0"
      ]
     },
     "metadata": {},
     "output_type": "display_data"
    }
   ],
   "source": [
    "X_train = np.hstack((feats_aerial_train, s2_train.reshape(len(labels_train), -1)))\n",
    "y_train = multilabels_train\n",
    "X_test = np.hstack((feats_aerial_test, s2_test.reshape(len(labels_test), -1)))\n",
    "y_test = multilabels_test\n",
    "train_and_eval('A + S2', X_train, y_train, X_test, y_test)"
   ]
  },
  {
   "cell_type": "markdown",
   "id": "9b096443",
   "metadata": {},
   "source": [
    "### Aerial + S1 + S2"
   ]
  },
  {
   "cell_type": "code",
   "execution_count": 80,
   "id": "15448c6b",
   "metadata": {
    "ExecuteTime": {
     "end_time": "2022-07-05T00:25:26.057164Z",
     "start_time": "2022-07-04T23:47:21.545878Z"
    },
    "scrolled": false
   },
   "outputs": [
    {
     "data": {
      "text/html": [
       "<div>\n",
       "<style scoped>\n",
       "    .dataframe tbody tr th:only-of-type {\n",
       "        vertical-align: middle;\n",
       "    }\n",
       "\n",
       "    .dataframe tbody tr th {\n",
       "        vertical-align: top;\n",
       "    }\n",
       "\n",
       "    .dataframe thead th {\n",
       "        text-align: right;\n",
       "    }\n",
       "</style>\n",
       "<table border=\"1\" class=\"dataframe\">\n",
       "  <thead>\n",
       "    <tr style=\"text-align: right;\">\n",
       "      <th></th>\n",
       "      <th>precision</th>\n",
       "      <th>recall</th>\n",
       "      <th>f1-score</th>\n",
       "      <th>mAP</th>\n",
       "      <th>support</th>\n",
       "    </tr>\n",
       "  </thead>\n",
       "  <tbody>\n",
       "    <tr>\n",
       "      <th>Abies</th>\n",
       "      <td>0.6364</td>\n",
       "      <td>0.2692</td>\n",
       "      <td>0.3784</td>\n",
       "      <td>0.4114</td>\n",
       "      <td>156.0</td>\n",
       "    </tr>\n",
       "    <tr>\n",
       "      <th>Acer</th>\n",
       "      <td>0.6842</td>\n",
       "      <td>0.0667</td>\n",
       "      <td>0.1215</td>\n",
       "      <td>0.3714</td>\n",
       "      <td>390.0</td>\n",
       "    </tr>\n",
       "    <tr>\n",
       "      <th>Alnus</th>\n",
       "      <td>0.7778</td>\n",
       "      <td>0.1172</td>\n",
       "      <td>0.2037</td>\n",
       "      <td>0.4075</td>\n",
       "      <td>418.0</td>\n",
       "    </tr>\n",
       "    <tr>\n",
       "      <th>Betula</th>\n",
       "      <td>0.8022</td>\n",
       "      <td>0.1698</td>\n",
       "      <td>0.2802</td>\n",
       "      <td>0.4574</td>\n",
       "      <td>430.0</td>\n",
       "    </tr>\n",
       "    <tr>\n",
       "      <th>Cleared</th>\n",
       "      <td>0.8830</td>\n",
       "      <td>0.4434</td>\n",
       "      <td>0.5903</td>\n",
       "      <td>0.7214</td>\n",
       "      <td>715.0</td>\n",
       "    </tr>\n",
       "    <tr>\n",
       "      <th>Fagus</th>\n",
       "      <td>0.7617</td>\n",
       "      <td>0.5886</td>\n",
       "      <td>0.6640</td>\n",
       "      <td>0.7713</td>\n",
       "      <td>1434.0</td>\n",
       "    </tr>\n",
       "    <tr>\n",
       "      <th>Fraxinus</th>\n",
       "      <td>0.6667</td>\n",
       "      <td>0.1183</td>\n",
       "      <td>0.2010</td>\n",
       "      <td>0.4266</td>\n",
       "      <td>338.0</td>\n",
       "    </tr>\n",
       "    <tr>\n",
       "      <th>Larix</th>\n",
       "      <td>0.8675</td>\n",
       "      <td>0.2057</td>\n",
       "      <td>0.3325</td>\n",
       "      <td>0.5195</td>\n",
       "      <td>637.0</td>\n",
       "    </tr>\n",
       "    <tr>\n",
       "      <th>Picea</th>\n",
       "      <td>0.8560</td>\n",
       "      <td>0.6118</td>\n",
       "      <td>0.7136</td>\n",
       "      <td>0.8314</td>\n",
       "      <td>1409.0</td>\n",
       "    </tr>\n",
       "    <tr>\n",
       "      <th>Pinus</th>\n",
       "      <td>0.8590</td>\n",
       "      <td>0.6790</td>\n",
       "      <td>0.7585</td>\n",
       "      <td>0.8679</td>\n",
       "      <td>1355.0</td>\n",
       "    </tr>\n",
       "    <tr>\n",
       "      <th>Populus</th>\n",
       "      <td>0.0000</td>\n",
       "      <td>0.0000</td>\n",
       "      <td>0.0000</td>\n",
       "      <td>0.5112</td>\n",
       "      <td>96.0</td>\n",
       "    </tr>\n",
       "    <tr>\n",
       "      <th>Prunus</th>\n",
       "      <td>0.5000</td>\n",
       "      <td>0.0213</td>\n",
       "      <td>0.0408</td>\n",
       "      <td>0.2392</td>\n",
       "      <td>47.0</td>\n",
       "    </tr>\n",
       "    <tr>\n",
       "      <th>Pseudotsuga</th>\n",
       "      <td>0.8579</td>\n",
       "      <td>0.2730</td>\n",
       "      <td>0.4142</td>\n",
       "      <td>0.5960</td>\n",
       "      <td>575.0</td>\n",
       "    </tr>\n",
       "    <tr>\n",
       "      <th>Quercus</th>\n",
       "      <td>0.7848</td>\n",
       "      <td>0.5156</td>\n",
       "      <td>0.6223</td>\n",
       "      <td>0.7542</td>\n",
       "      <td>1443.0</td>\n",
       "    </tr>\n",
       "    <tr>\n",
       "      <th>Tilia</th>\n",
       "      <td>1.0000</td>\n",
       "      <td>0.0345</td>\n",
       "      <td>0.0667</td>\n",
       "      <td>0.3540</td>\n",
       "      <td>29.0</td>\n",
       "    </tr>\n",
       "  </tbody>\n",
       "</table>\n",
       "</div>"
      ],
      "text/plain": [
       "             precision  recall  f1-score     mAP  support\n",
       "Abies           0.6364  0.2692    0.3784  0.4114    156.0\n",
       "Acer            0.6842  0.0667    0.1215  0.3714    390.0\n",
       "Alnus           0.7778  0.1172    0.2037  0.4075    418.0\n",
       "Betula          0.8022  0.1698    0.2802  0.4574    430.0\n",
       "Cleared         0.8830  0.4434    0.5903  0.7214    715.0\n",
       "Fagus           0.7617  0.5886    0.6640  0.7713   1434.0\n",
       "Fraxinus        0.6667  0.1183    0.2010  0.4266    338.0\n",
       "Larix           0.8675  0.2057    0.3325  0.5195    637.0\n",
       "Picea           0.8560  0.6118    0.7136  0.8314   1409.0\n",
       "Pinus           0.8590  0.6790    0.7585  0.8679   1355.0\n",
       "Populus         0.0000  0.0000    0.0000  0.5112     96.0\n",
       "Prunus          0.5000  0.0213    0.0408  0.2392     47.0\n",
       "Pseudotsuga     0.8579  0.2730    0.4142  0.5960    575.0\n",
       "Quercus         0.7848  0.5156    0.6223  0.7542   1443.0\n",
       "Tilia           1.0000  0.0345    0.0667  0.3540     29.0"
      ]
     },
     "metadata": {},
     "output_type": "display_data"
    },
    {
     "data": {
      "text/html": [
       "<div>\n",
       "<style scoped>\n",
       "    .dataframe tbody tr th:only-of-type {\n",
       "        vertical-align: middle;\n",
       "    }\n",
       "\n",
       "    .dataframe tbody tr th {\n",
       "        vertical-align: top;\n",
       "    }\n",
       "\n",
       "    .dataframe thead th {\n",
       "        text-align: right;\n",
       "    }\n",
       "</style>\n",
       "<table border=\"1\" class=\"dataframe\">\n",
       "  <thead>\n",
       "    <tr style=\"text-align: right;\">\n",
       "      <th></th>\n",
       "      <th>precision</th>\n",
       "      <th>recall</th>\n",
       "      <th>f1-score</th>\n",
       "      <th>mAP</th>\n",
       "      <th>support</th>\n",
       "    </tr>\n",
       "  </thead>\n",
       "  <tbody>\n",
       "    <tr>\n",
       "      <th>micro avg</th>\n",
       "      <td>0.8172</td>\n",
       "      <td>0.4442</td>\n",
       "      <td>0.5755</td>\n",
       "      <td>0.6962</td>\n",
       "      <td>9472.0</td>\n",
       "    </tr>\n",
       "    <tr>\n",
       "      <th>macro avg</th>\n",
       "      <td>0.7292</td>\n",
       "      <td>0.2743</td>\n",
       "      <td>0.3592</td>\n",
       "      <td>0.5494</td>\n",
       "      <td>9472.0</td>\n",
       "    </tr>\n",
       "    <tr>\n",
       "      <th>weighted avg</th>\n",
       "      <td>0.8009</td>\n",
       "      <td>0.4442</td>\n",
       "      <td>0.5426</td>\n",
       "      <td>0.6885</td>\n",
       "      <td>9472.0</td>\n",
       "    </tr>\n",
       "    <tr>\n",
       "      <th>samples avg</th>\n",
       "      <td>0.7239</td>\n",
       "      <td>0.5263</td>\n",
       "      <td>0.5814</td>\n",
       "      <td>0.7882</td>\n",
       "      <td>9472.0</td>\n",
       "    </tr>\n",
       "  </tbody>\n",
       "</table>\n",
       "</div>"
      ],
      "text/plain": [
       "              precision  recall  f1-score     mAP  support\n",
       "micro avg        0.8172  0.4442    0.5755  0.6962   9472.0\n",
       "macro avg        0.7292  0.2743    0.3592  0.5494   9472.0\n",
       "weighted avg     0.8009  0.4442    0.5426  0.6885   9472.0\n",
       "samples avg      0.7239  0.5263    0.5814  0.7882   9472.0"
      ]
     },
     "metadata": {},
     "output_type": "display_data"
    }
   ],
   "source": [
    "X_train = np.hstack((feats_aerial_train, s1_train.reshape(len(labels_train), -1), s2_train.reshape(len(labels_train), -1)))\n",
    "y_train = multilabels_train\n",
    "X_test = np.hstack((feats_aerial_test, s1_test.reshape(len(labels_test), -1), s2_test.reshape(len(labels_test), -1)))\n",
    "y_test = multilabels_test\n",
    "train_and_eval('A + S1 + S2', X_train, y_train, X_test, y_test)"
   ]
  },
  {
   "cell_type": "markdown",
   "id": "5ad391ec",
   "metadata": {},
   "source": [
    "## Results"
   ]
  },
  {
   "cell_type": "code",
   "execution_count": 81,
   "id": "940a93ec",
   "metadata": {
    "ExecuteTime": {
     "end_time": "2022-07-05T00:25:26.090172Z",
     "start_time": "2022-07-05T00:25:26.059090Z"
    },
    "scrolled": true
   },
   "outputs": [
    {
     "name": "stdout",
     "output_type": "stream",
     "text": [
      "S1\n"
     ]
    },
    {
     "data": {
      "text/html": [
       "<div>\n",
       "<style scoped>\n",
       "    .dataframe tbody tr th:only-of-type {\n",
       "        vertical-align: middle;\n",
       "    }\n",
       "\n",
       "    .dataframe tbody tr th {\n",
       "        vertical-align: top;\n",
       "    }\n",
       "\n",
       "    .dataframe thead th {\n",
       "        text-align: right;\n",
       "    }\n",
       "</style>\n",
       "<table border=\"1\" class=\"dataframe\">\n",
       "  <thead>\n",
       "    <tr style=\"text-align: right;\">\n",
       "      <th></th>\n",
       "      <th>precision</th>\n",
       "      <th>recall</th>\n",
       "      <th>f1-score</th>\n",
       "      <th>mAP</th>\n",
       "    </tr>\n",
       "  </thead>\n",
       "  <tbody>\n",
       "    <tr>\n",
       "      <th>micro avg</th>\n",
       "      <td>0.5549</td>\n",
       "      <td>0.0806</td>\n",
       "      <td>0.1407</td>\n",
       "      <td>0.3511</td>\n",
       "    </tr>\n",
       "    <tr>\n",
       "      <th>macro avg</th>\n",
       "      <td>0.1943</td>\n",
       "      <td>0.0438</td>\n",
       "      <td>0.0648</td>\n",
       "      <td>0.2007</td>\n",
       "    </tr>\n",
       "    <tr>\n",
       "      <th>weighted avg</th>\n",
       "      <td>0.3796</td>\n",
       "      <td>0.0806</td>\n",
       "      <td>0.1186</td>\n",
       "      <td>0.3279</td>\n",
       "    </tr>\n",
       "    <tr>\n",
       "      <th>samples avg</th>\n",
       "      <td>0.1409</td>\n",
       "      <td>0.0994</td>\n",
       "      <td>0.1108</td>\n",
       "      <td>0.5474</td>\n",
       "    </tr>\n",
       "  </tbody>\n",
       "</table>\n",
       "</div>"
      ],
      "text/plain": [
       "              precision  recall  f1-score     mAP\n",
       "micro avg        0.5549  0.0806    0.1407  0.3511\n",
       "macro avg        0.1943  0.0438    0.0648  0.2007\n",
       "weighted avg     0.3796  0.0806    0.1186  0.3279\n",
       "samples avg      0.1409  0.0994    0.1108  0.5474"
      ]
     },
     "metadata": {},
     "output_type": "display_data"
    },
    {
     "name": "stdout",
     "output_type": "stream",
     "text": [
      "S2\n"
     ]
    },
    {
     "data": {
      "text/html": [
       "<div>\n",
       "<style scoped>\n",
       "    .dataframe tbody tr th:only-of-type {\n",
       "        vertical-align: middle;\n",
       "    }\n",
       "\n",
       "    .dataframe tbody tr th {\n",
       "        vertical-align: top;\n",
       "    }\n",
       "\n",
       "    .dataframe thead th {\n",
       "        text-align: right;\n",
       "    }\n",
       "</style>\n",
       "<table border=\"1\" class=\"dataframe\">\n",
       "  <thead>\n",
       "    <tr style=\"text-align: right;\">\n",
       "      <th></th>\n",
       "      <th>precision</th>\n",
       "      <th>recall</th>\n",
       "      <th>f1-score</th>\n",
       "      <th>mAP</th>\n",
       "    </tr>\n",
       "  </thead>\n",
       "  <tbody>\n",
       "    <tr>\n",
       "      <th>micro avg</th>\n",
       "      <td>0.7627</td>\n",
       "      <td>0.4004</td>\n",
       "      <td>0.5252</td>\n",
       "      <td>0.6165</td>\n",
       "    </tr>\n",
       "    <tr>\n",
       "      <th>macro avg</th>\n",
       "      <td>0.6663</td>\n",
       "      <td>0.2313</td>\n",
       "      <td>0.2982</td>\n",
       "      <td>0.4516</td>\n",
       "    </tr>\n",
       "    <tr>\n",
       "      <th>weighted avg</th>\n",
       "      <td>0.7427</td>\n",
       "      <td>0.4004</td>\n",
       "      <td>0.4817</td>\n",
       "      <td>0.6199</td>\n",
       "    </tr>\n",
       "    <tr>\n",
       "      <th>samples avg</th>\n",
       "      <td>0.6490</td>\n",
       "      <td>0.4739</td>\n",
       "      <td>0.5220</td>\n",
       "      <td>0.7256</td>\n",
       "    </tr>\n",
       "  </tbody>\n",
       "</table>\n",
       "</div>"
      ],
      "text/plain": [
       "              precision  recall  f1-score     mAP\n",
       "micro avg        0.7627  0.4004    0.5252  0.6165\n",
       "macro avg        0.6663  0.2313    0.2982  0.4516\n",
       "weighted avg     0.7427  0.4004    0.4817  0.6199\n",
       "samples avg      0.6490  0.4739    0.5220  0.7256"
      ]
     },
     "metadata": {},
     "output_type": "display_data"
    },
    {
     "name": "stdout",
     "output_type": "stream",
     "text": [
      "A\n"
     ]
    },
    {
     "data": {
      "text/html": [
       "<div>\n",
       "<style scoped>\n",
       "    .dataframe tbody tr th:only-of-type {\n",
       "        vertical-align: middle;\n",
       "    }\n",
       "\n",
       "    .dataframe tbody tr th {\n",
       "        vertical-align: top;\n",
       "    }\n",
       "\n",
       "    .dataframe thead th {\n",
       "        text-align: right;\n",
       "    }\n",
       "</style>\n",
       "<table border=\"1\" class=\"dataframe\">\n",
       "  <thead>\n",
       "    <tr style=\"text-align: right;\">\n",
       "      <th></th>\n",
       "      <th>precision</th>\n",
       "      <th>recall</th>\n",
       "      <th>f1-score</th>\n",
       "      <th>mAP</th>\n",
       "    </tr>\n",
       "  </thead>\n",
       "  <tbody>\n",
       "    <tr>\n",
       "      <th>micro avg</th>\n",
       "      <td>0.7863</td>\n",
       "      <td>0.3398</td>\n",
       "      <td>0.4746</td>\n",
       "      <td>0.5798</td>\n",
       "    </tr>\n",
       "    <tr>\n",
       "      <th>macro avg</th>\n",
       "      <td>0.6944</td>\n",
       "      <td>0.2020</td>\n",
       "      <td>0.2769</td>\n",
       "      <td>0.4531</td>\n",
       "    </tr>\n",
       "    <tr>\n",
       "      <th>weighted avg</th>\n",
       "      <td>0.7612</td>\n",
       "      <td>0.3398</td>\n",
       "      <td>0.4398</td>\n",
       "      <td>0.6004</td>\n",
       "    </tr>\n",
       "    <tr>\n",
       "      <th>samples avg</th>\n",
       "      <td>0.5858</td>\n",
       "      <td>0.4144</td>\n",
       "      <td>0.4627</td>\n",
       "      <td>0.7018</td>\n",
       "    </tr>\n",
       "  </tbody>\n",
       "</table>\n",
       "</div>"
      ],
      "text/plain": [
       "              precision  recall  f1-score     mAP\n",
       "micro avg        0.7863  0.3398    0.4746  0.5798\n",
       "macro avg        0.6944  0.2020    0.2769  0.4531\n",
       "weighted avg     0.7612  0.3398    0.4398  0.6004\n",
       "samples avg      0.5858  0.4144    0.4627  0.7018"
      ]
     },
     "metadata": {},
     "output_type": "display_data"
    },
    {
     "name": "stdout",
     "output_type": "stream",
     "text": [
      "S1 + S2\n"
     ]
    },
    {
     "data": {
      "text/html": [
       "<div>\n",
       "<style scoped>\n",
       "    .dataframe tbody tr th:only-of-type {\n",
       "        vertical-align: middle;\n",
       "    }\n",
       "\n",
       "    .dataframe tbody tr th {\n",
       "        vertical-align: top;\n",
       "    }\n",
       "\n",
       "    .dataframe thead th {\n",
       "        text-align: right;\n",
       "    }\n",
       "</style>\n",
       "<table border=\"1\" class=\"dataframe\">\n",
       "  <thead>\n",
       "    <tr style=\"text-align: right;\">\n",
       "      <th></th>\n",
       "      <th>precision</th>\n",
       "      <th>recall</th>\n",
       "      <th>f1-score</th>\n",
       "      <th>mAP</th>\n",
       "    </tr>\n",
       "  </thead>\n",
       "  <tbody>\n",
       "    <tr>\n",
       "      <th>micro avg</th>\n",
       "      <td>0.7758</td>\n",
       "      <td>0.3932</td>\n",
       "      <td>0.5219</td>\n",
       "      <td>0.6010</td>\n",
       "    </tr>\n",
       "    <tr>\n",
       "      <th>macro avg</th>\n",
       "      <td>0.6392</td>\n",
       "      <td>0.2170</td>\n",
       "      <td>0.2760</td>\n",
       "      <td>0.4411</td>\n",
       "    </tr>\n",
       "    <tr>\n",
       "      <th>weighted avg</th>\n",
       "      <td>0.7460</td>\n",
       "      <td>0.3932</td>\n",
       "      <td>0.4740</td>\n",
       "      <td>0.6206</td>\n",
       "    </tr>\n",
       "    <tr>\n",
       "      <th>samples avg</th>\n",
       "      <td>0.6469</td>\n",
       "      <td>0.4653</td>\n",
       "      <td>0.5160</td>\n",
       "      <td>0.7129</td>\n",
       "    </tr>\n",
       "  </tbody>\n",
       "</table>\n",
       "</div>"
      ],
      "text/plain": [
       "              precision  recall  f1-score     mAP\n",
       "micro avg        0.7758  0.3932    0.5219  0.6010\n",
       "macro avg        0.6392  0.2170    0.2760  0.4411\n",
       "weighted avg     0.7460  0.3932    0.4740  0.6206\n",
       "samples avg      0.6469  0.4653    0.5160  0.7129"
      ]
     },
     "metadata": {},
     "output_type": "display_data"
    },
    {
     "name": "stdout",
     "output_type": "stream",
     "text": [
      "A + S1\n"
     ]
    },
    {
     "data": {
      "text/html": [
       "<div>\n",
       "<style scoped>\n",
       "    .dataframe tbody tr th:only-of-type {\n",
       "        vertical-align: middle;\n",
       "    }\n",
       "\n",
       "    .dataframe tbody tr th {\n",
       "        vertical-align: top;\n",
       "    }\n",
       "\n",
       "    .dataframe thead th {\n",
       "        text-align: right;\n",
       "    }\n",
       "</style>\n",
       "<table border=\"1\" class=\"dataframe\">\n",
       "  <thead>\n",
       "    <tr style=\"text-align: right;\">\n",
       "      <th></th>\n",
       "      <th>precision</th>\n",
       "      <th>recall</th>\n",
       "      <th>f1-score</th>\n",
       "      <th>mAP</th>\n",
       "    </tr>\n",
       "  </thead>\n",
       "  <tbody>\n",
       "    <tr>\n",
       "      <th>micro avg</th>\n",
       "      <td>0.7697</td>\n",
       "      <td>0.3447</td>\n",
       "      <td>0.4762</td>\n",
       "      <td>0.5711</td>\n",
       "    </tr>\n",
       "    <tr>\n",
       "      <th>macro avg</th>\n",
       "      <td>0.6965</td>\n",
       "      <td>0.2140</td>\n",
       "      <td>0.2945</td>\n",
       "      <td>0.4260</td>\n",
       "    </tr>\n",
       "    <tr>\n",
       "      <th>weighted avg</th>\n",
       "      <td>0.7552</td>\n",
       "      <td>0.3447</td>\n",
       "      <td>0.4452</td>\n",
       "      <td>0.5822</td>\n",
       "    </tr>\n",
       "    <tr>\n",
       "      <th>samples avg</th>\n",
       "      <td>0.5836</td>\n",
       "      <td>0.4223</td>\n",
       "      <td>0.4660</td>\n",
       "      <td>0.7030</td>\n",
       "    </tr>\n",
       "  </tbody>\n",
       "</table>\n",
       "</div>"
      ],
      "text/plain": [
       "              precision  recall  f1-score     mAP\n",
       "micro avg        0.7697  0.3447    0.4762  0.5711\n",
       "macro avg        0.6965  0.2140    0.2945  0.4260\n",
       "weighted avg     0.7552  0.3447    0.4452  0.5822\n",
       "samples avg      0.5836  0.4223    0.4660  0.7030"
      ]
     },
     "metadata": {},
     "output_type": "display_data"
    },
    {
     "name": "stdout",
     "output_type": "stream",
     "text": [
      "A + S2\n"
     ]
    },
    {
     "data": {
      "text/html": [
       "<div>\n",
       "<style scoped>\n",
       "    .dataframe tbody tr th:only-of-type {\n",
       "        vertical-align: middle;\n",
       "    }\n",
       "\n",
       "    .dataframe tbody tr th {\n",
       "        vertical-align: top;\n",
       "    }\n",
       "\n",
       "    .dataframe thead th {\n",
       "        text-align: right;\n",
       "    }\n",
       "</style>\n",
       "<table border=\"1\" class=\"dataframe\">\n",
       "  <thead>\n",
       "    <tr style=\"text-align: right;\">\n",
       "      <th></th>\n",
       "      <th>precision</th>\n",
       "      <th>recall</th>\n",
       "      <th>f1-score</th>\n",
       "      <th>mAP</th>\n",
       "    </tr>\n",
       "  </thead>\n",
       "  <tbody>\n",
       "    <tr>\n",
       "      <th>micro avg</th>\n",
       "      <td>0.8146</td>\n",
       "      <td>0.4486</td>\n",
       "      <td>0.5786</td>\n",
       "      <td>0.6941</td>\n",
       "    </tr>\n",
       "    <tr>\n",
       "      <th>macro avg</th>\n",
       "      <td>0.8167</td>\n",
       "      <td>0.2785</td>\n",
       "      <td>0.3654</td>\n",
       "      <td>0.5546</td>\n",
       "    </tr>\n",
       "    <tr>\n",
       "      <th>weighted avg</th>\n",
       "      <td>0.8089</td>\n",
       "      <td>0.4486</td>\n",
       "      <td>0.5440</td>\n",
       "      <td>0.6908</td>\n",
       "    </tr>\n",
       "    <tr>\n",
       "      <th>samples avg</th>\n",
       "      <td>0.7205</td>\n",
       "      <td>0.5306</td>\n",
       "      <td>0.5832</td>\n",
       "      <td>0.7853</td>\n",
       "    </tr>\n",
       "  </tbody>\n",
       "</table>\n",
       "</div>"
      ],
      "text/plain": [
       "              precision  recall  f1-score     mAP\n",
       "micro avg        0.8146  0.4486    0.5786  0.6941\n",
       "macro avg        0.8167  0.2785    0.3654  0.5546\n",
       "weighted avg     0.8089  0.4486    0.5440  0.6908\n",
       "samples avg      0.7205  0.5306    0.5832  0.7853"
      ]
     },
     "metadata": {},
     "output_type": "display_data"
    },
    {
     "name": "stdout",
     "output_type": "stream",
     "text": [
      "A + S1 + S2\n"
     ]
    },
    {
     "data": {
      "text/html": [
       "<div>\n",
       "<style scoped>\n",
       "    .dataframe tbody tr th:only-of-type {\n",
       "        vertical-align: middle;\n",
       "    }\n",
       "\n",
       "    .dataframe tbody tr th {\n",
       "        vertical-align: top;\n",
       "    }\n",
       "\n",
       "    .dataframe thead th {\n",
       "        text-align: right;\n",
       "    }\n",
       "</style>\n",
       "<table border=\"1\" class=\"dataframe\">\n",
       "  <thead>\n",
       "    <tr style=\"text-align: right;\">\n",
       "      <th></th>\n",
       "      <th>precision</th>\n",
       "      <th>recall</th>\n",
       "      <th>f1-score</th>\n",
       "      <th>mAP</th>\n",
       "    </tr>\n",
       "  </thead>\n",
       "  <tbody>\n",
       "    <tr>\n",
       "      <th>micro avg</th>\n",
       "      <td>0.8172</td>\n",
       "      <td>0.4442</td>\n",
       "      <td>0.5755</td>\n",
       "      <td>0.6962</td>\n",
       "    </tr>\n",
       "    <tr>\n",
       "      <th>macro avg</th>\n",
       "      <td>0.7292</td>\n",
       "      <td>0.2743</td>\n",
       "      <td>0.3592</td>\n",
       "      <td>0.5494</td>\n",
       "    </tr>\n",
       "    <tr>\n",
       "      <th>weighted avg</th>\n",
       "      <td>0.8009</td>\n",
       "      <td>0.4442</td>\n",
       "      <td>0.5426</td>\n",
       "      <td>0.6885</td>\n",
       "    </tr>\n",
       "    <tr>\n",
       "      <th>samples avg</th>\n",
       "      <td>0.7239</td>\n",
       "      <td>0.5263</td>\n",
       "      <td>0.5814</td>\n",
       "      <td>0.7882</td>\n",
       "    </tr>\n",
       "  </tbody>\n",
       "</table>\n",
       "</div>"
      ],
      "text/plain": [
       "              precision  recall  f1-score     mAP\n",
       "micro avg        0.8172  0.4442    0.5755  0.6962\n",
       "macro avg        0.7292  0.2743    0.3592  0.5494\n",
       "weighted avg     0.8009  0.4442    0.5426  0.6885\n",
       "samples avg      0.7239  0.5263    0.5814  0.7882"
      ]
     },
     "metadata": {},
     "output_type": "display_data"
    }
   ],
   "source": [
    "with shelve.open(\"lightgbm_res.shelve\") as all_res:\n",
    "    for name in 'S1, S2, A, S1 + S2, A + S1, A + S2, A + S1 + S2'.split(', '):\n",
    "        df = all_res[name].iloc[-4:, :-1]\n",
    "        print(name)\n",
    "        display(df)"
   ]
  },
  {
   "cell_type": "code",
   "execution_count": 4,
   "id": "f3d60153",
   "metadata": {
    "ExecuteTime": {
     "end_time": "2022-07-05T15:29:42.958824Z",
     "start_time": "2022-07-05T15:29:42.929109Z"
    }
   },
   "outputs": [],
   "source": [
    "with shelve.open(\"lightgbm_res.shelve\") as all_res:\n",
    "    df = pd.DataFrame.from_dict({\n",
    "        name:all_res[name].iloc[-4:, :-1].stack() for name in 'S1, S2, A, S1 + S2, A + S1, A + S2, A + S1 + S2'.split(', ')\n",
    "    }, orient='index')[['weighted avg', 'micro avg']]"
   ]
  },
  {
   "cell_type": "code",
   "execution_count": 5,
   "id": "a48c609c",
   "metadata": {
    "ExecuteTime": {
     "end_time": "2022-07-05T15:29:43.342943Z",
     "start_time": "2022-07-05T15:29:43.241566Z"
    },
    "scrolled": true
   },
   "outputs": [
    {
     "data": {
      "text/html": [
       "<style type=\"text/css\">\n",
       "#T_031b0_row0_col0, #T_031b0_row0_col1, #T_031b0_row0_col2, #T_031b0_row0_col3, #T_031b0_row0_col4, #T_031b0_row0_col5, #T_031b0_row0_col6, #T_031b0_row0_col7 {\n",
       "  background-color: #a50026;\n",
       "  color: #f1f1f1;\n",
       "}\n",
       "#T_031b0_row1_col0 {\n",
       "  background-color: #42ac5a;\n",
       "  color: #f1f1f1;\n",
       "}\n",
       "#T_031b0_row1_col1, #T_031b0_row1_col5, #T_031b0_row3_col6 {\n",
       "  background-color: #30a356;\n",
       "  color: #f1f1f1;\n",
       "}\n",
       "#T_031b0_row1_col2, #T_031b0_row3_col0 {\n",
       "  background-color: #3ca959;\n",
       "  color: #f1f1f1;\n",
       "}\n",
       "#T_031b0_row1_col3 {\n",
       "  background-color: #63bc62;\n",
       "  color: #f1f1f1;\n",
       "}\n",
       "#T_031b0_row1_col4 {\n",
       "  background-color: #6bbf64;\n",
       "  color: #000000;\n",
       "}\n",
       "#T_031b0_row1_col6 {\n",
       "  background-color: #2aa054;\n",
       "  color: #f1f1f1;\n",
       "}\n",
       "#T_031b0_row1_col7, #T_031b0_row4_col2, #T_031b0_row4_col6 {\n",
       "  background-color: #7ac665;\n",
       "  color: #000000;\n",
       "}\n",
       "#T_031b0_row2_col0 {\n",
       "  background-color: #219c52;\n",
       "  color: #f1f1f1;\n",
       "}\n",
       "#T_031b0_row2_col1, #T_031b0_row2_col5 {\n",
       "  background-color: #a2d76a;\n",
       "  color: #000000;\n",
       "}\n",
       "#T_031b0_row2_col2 {\n",
       "  background-color: #82c966;\n",
       "  color: #000000;\n",
       "}\n",
       "#T_031b0_row2_col3 {\n",
       "  background-color: #84ca66;\n",
       "  color: #000000;\n",
       "}\n",
       "#T_031b0_row2_col4 {\n",
       "  background-color: #279f53;\n",
       "  color: #f1f1f1;\n",
       "}\n",
       "#T_031b0_row2_col6 {\n",
       "  background-color: #7dc765;\n",
       "  color: #000000;\n",
       "}\n",
       "#T_031b0_row2_col7 {\n",
       "  background-color: #b9e176;\n",
       "  color: #000000;\n",
       "}\n",
       "#T_031b0_row3_col1, #T_031b0_row3_col5 {\n",
       "  background-color: #3faa59;\n",
       "  color: #f1f1f1;\n",
       "}\n",
       "#T_031b0_row3_col2 {\n",
       "  background-color: #4bb05c;\n",
       "  color: #f1f1f1;\n",
       "}\n",
       "#T_031b0_row3_col3 {\n",
       "  background-color: #60ba62;\n",
       "  color: #f1f1f1;\n",
       "}\n",
       "#T_031b0_row3_col4 {\n",
       "  background-color: #45ad5b;\n",
       "  color: #f1f1f1;\n",
       "}\n",
       "#T_031b0_row3_col7 {\n",
       "  background-color: #96d268;\n",
       "  color: #000000;\n",
       "}\n",
       "#T_031b0_row4_col0 {\n",
       "  background-color: #2da155;\n",
       "  color: #f1f1f1;\n",
       "}\n",
       "#T_031b0_row4_col1, #T_031b0_row4_col5 {\n",
       "  background-color: #9bd469;\n",
       "  color: #000000;\n",
       "}\n",
       "#T_031b0_row4_col3 {\n",
       "  background-color: #a5d86a;\n",
       "  color: #000000;\n",
       "}\n",
       "#T_031b0_row4_col4 {\n",
       "  background-color: #57b65f;\n",
       "  color: #f1f1f1;\n",
       "}\n",
       "#T_031b0_row4_col7 {\n",
       "  background-color: #c5e67e;\n",
       "  color: #000000;\n",
       "}\n",
       "#T_031b0_row5_col0, #T_031b0_row5_col1, #T_031b0_row5_col2, #T_031b0_row5_col3, #T_031b0_row5_col5, #T_031b0_row5_col6, #T_031b0_row6_col2, #T_031b0_row6_col4, #T_031b0_row6_col7 {\n",
       "  background-color: #006837;\n",
       "  color: #f1f1f1;\n",
       "}\n",
       "#T_031b0_row5_col4 {\n",
       "  background-color: #026c39;\n",
       "  color: #f1f1f1;\n",
       "}\n",
       "#T_031b0_row5_col7, #T_031b0_row6_col3, #T_031b0_row6_col6 {\n",
       "  background-color: #016a38;\n",
       "  color: #f1f1f1;\n",
       "}\n",
       "#T_031b0_row6_col0 {\n",
       "  background-color: #04703b;\n",
       "  color: #f1f1f1;\n",
       "}\n",
       "#T_031b0_row6_col1, #T_031b0_row6_col5 {\n",
       "  background-color: #036e3a;\n",
       "  color: #f1f1f1;\n",
       "}\n",
       "</style>\n",
       "<table id=\"T_031b0\">\n",
       "  <thead>\n",
       "    <tr>\n",
       "      <th class=\"blank level0\" >&nbsp;</th>\n",
       "      <th id=\"T_031b0_level0_col0\" class=\"col_heading level0 col0\" colspan=\"4\">weighted avg</th>\n",
       "      <th id=\"T_031b0_level0_col4\" class=\"col_heading level0 col4\" colspan=\"4\">micro avg</th>\n",
       "    </tr>\n",
       "    <tr>\n",
       "      <th class=\"blank level1\" >&nbsp;</th>\n",
       "      <th id=\"T_031b0_level1_col0\" class=\"col_heading level1 col0\" >precision</th>\n",
       "      <th id=\"T_031b0_level1_col1\" class=\"col_heading level1 col1\" >recall</th>\n",
       "      <th id=\"T_031b0_level1_col2\" class=\"col_heading level1 col2\" >f1-score</th>\n",
       "      <th id=\"T_031b0_level1_col3\" class=\"col_heading level1 col3\" >mAP</th>\n",
       "      <th id=\"T_031b0_level1_col4\" class=\"col_heading level1 col4\" >precision</th>\n",
       "      <th id=\"T_031b0_level1_col5\" class=\"col_heading level1 col5\" >recall</th>\n",
       "      <th id=\"T_031b0_level1_col6\" class=\"col_heading level1 col6\" >f1-score</th>\n",
       "      <th id=\"T_031b0_level1_col7\" class=\"col_heading level1 col7\" >mAP</th>\n",
       "    </tr>\n",
       "  </thead>\n",
       "  <tbody>\n",
       "    <tr>\n",
       "      <th id=\"T_031b0_level0_row0\" class=\"row_heading level0 row0\" >S1</th>\n",
       "      <td id=\"T_031b0_row0_col0\" class=\"data row0 col0\" >0.379555</td>\n",
       "      <td id=\"T_031b0_row0_col1\" class=\"data row0 col1\" >0.080553</td>\n",
       "      <td id=\"T_031b0_row0_col2\" class=\"data row0 col2\" >0.118563</td>\n",
       "      <td id=\"T_031b0_row0_col3\" class=\"data row0 col3\" >0.327856</td>\n",
       "      <td id=\"T_031b0_row0_col4\" class=\"data row0 col4\" >0.554909</td>\n",
       "      <td id=\"T_031b0_row0_col5\" class=\"data row0 col5\" >0.080553</td>\n",
       "      <td id=\"T_031b0_row0_col6\" class=\"data row0 col6\" >0.140684</td>\n",
       "      <td id=\"T_031b0_row0_col7\" class=\"data row0 col7\" >0.351051</td>\n",
       "    </tr>\n",
       "    <tr>\n",
       "      <th id=\"T_031b0_level0_row1\" class=\"row_heading level0 row1\" >S2</th>\n",
       "      <td id=\"T_031b0_row1_col0\" class=\"data row1 col0\" >0.742738</td>\n",
       "      <td id=\"T_031b0_row1_col1\" class=\"data row1 col1\" >0.400443</td>\n",
       "      <td id=\"T_031b0_row1_col2\" class=\"data row1 col2\" >0.481652</td>\n",
       "      <td id=\"T_031b0_row1_col3\" class=\"data row1 col3\" >0.619903</td>\n",
       "      <td id=\"T_031b0_row1_col4\" class=\"data row1 col4\" >0.762719</td>\n",
       "      <td id=\"T_031b0_row1_col5\" class=\"data row1 col5\" >0.400443</td>\n",
       "      <td id=\"T_031b0_row1_col6\" class=\"data row1 col6\" >0.525164</td>\n",
       "      <td id=\"T_031b0_row1_col7\" class=\"data row1 col7\" >0.616548</td>\n",
       "    </tr>\n",
       "    <tr>\n",
       "      <th id=\"T_031b0_level0_row2\" class=\"row_heading level0 row2\" >A</th>\n",
       "      <td id=\"T_031b0_row2_col0\" class=\"data row2 col0\" >0.761154</td>\n",
       "      <td id=\"T_031b0_row2_col1\" class=\"data row2 col1\" >0.339844</td>\n",
       "      <td id=\"T_031b0_row2_col2\" class=\"data row2 col2\" >0.439850</td>\n",
       "      <td id=\"T_031b0_row2_col3\" class=\"data row2 col3\" >0.600413</td>\n",
       "      <td id=\"T_031b0_row2_col4\" class=\"data row2 col4\" >0.786273</td>\n",
       "      <td id=\"T_031b0_row2_col5\" class=\"data row2 col5\" >0.339844</td>\n",
       "      <td id=\"T_031b0_row2_col6\" class=\"data row2 col6\" >0.474569</td>\n",
       "      <td id=\"T_031b0_row2_col7\" class=\"data row2 col7\" >0.579782</td>\n",
       "    </tr>\n",
       "    <tr>\n",
       "      <th id=\"T_031b0_level0_row3\" class=\"row_heading level0 row3\" >S1 + S2</th>\n",
       "      <td id=\"T_031b0_row3_col0\" class=\"data row3 col0\" >0.745990</td>\n",
       "      <td id=\"T_031b0_row3_col1\" class=\"data row3 col1\" >0.393159</td>\n",
       "      <td id=\"T_031b0_row3_col2\" class=\"data row3 col2\" >0.474031</td>\n",
       "      <td id=\"T_031b0_row3_col3\" class=\"data row3 col3\" >0.620630</td>\n",
       "      <td id=\"T_031b0_row3_col4\" class=\"data row3 col4\" >0.775833</td>\n",
       "      <td id=\"T_031b0_row3_col5\" class=\"data row3 col5\" >0.393159</td>\n",
       "      <td id=\"T_031b0_row3_col6\" class=\"data row3 col6\" >0.521861</td>\n",
       "      <td id=\"T_031b0_row3_col7\" class=\"data row3 col7\" >0.601025</td>\n",
       "    </tr>\n",
       "    <tr>\n",
       "      <th id=\"T_031b0_level0_row4\" class=\"row_heading level0 row4\" >A + S1</th>\n",
       "      <td id=\"T_031b0_row4_col0\" class=\"data row4 col0\" >0.755173</td>\n",
       "      <td id=\"T_031b0_row4_col1\" class=\"data row4 col1\" >0.344700</td>\n",
       "      <td id=\"T_031b0_row4_col2\" class=\"data row4 col2\" >0.445221</td>\n",
       "      <td id=\"T_031b0_row4_col3\" class=\"data row4 col3\" >0.582184</td>\n",
       "      <td id=\"T_031b0_row4_col4\" class=\"data row4 col4\" >0.769684</td>\n",
       "      <td id=\"T_031b0_row4_col5\" class=\"data row4 col5\" >0.344700</td>\n",
       "      <td id=\"T_031b0_row4_col6\" class=\"data row4 col6\" >0.476156</td>\n",
       "      <td id=\"T_031b0_row4_col7\" class=\"data row4 col7\" >0.571078</td>\n",
       "    </tr>\n",
       "    <tr>\n",
       "      <th id=\"T_031b0_level0_row5\" class=\"row_heading level0 row5\" >A + S2</th>\n",
       "      <td id=\"T_031b0_row5_col0\" class=\"data row5 col0\" >0.808907</td>\n",
       "      <td id=\"T_031b0_row5_col1\" class=\"data row5 col1\" >0.448585</td>\n",
       "      <td id=\"T_031b0_row5_col2\" class=\"data row5 col2\" >0.543974</td>\n",
       "      <td id=\"T_031b0_row5_col3\" class=\"data row5 col3\" >0.690809</td>\n",
       "      <td id=\"T_031b0_row5_col4\" class=\"data row5 col4\" >0.814609</td>\n",
       "      <td id=\"T_031b0_row5_col5\" class=\"data row5 col5\" >0.448585</td>\n",
       "      <td id=\"T_031b0_row5_col6\" class=\"data row5 col6\" >0.578568</td>\n",
       "      <td id=\"T_031b0_row5_col7\" class=\"data row5 col7\" >0.694129</td>\n",
       "    </tr>\n",
       "    <tr>\n",
       "      <th id=\"T_031b0_level0_row6\" class=\"row_heading level0 row6\" >A + S1 + S2</th>\n",
       "      <td id=\"T_031b0_row6_col0\" class=\"data row6 col0\" >0.800905</td>\n",
       "      <td id=\"T_031b0_row6_col1\" class=\"data row6 col1\" >0.444151</td>\n",
       "      <td id=\"T_031b0_row6_col2\" class=\"data row6 col2\" >0.542581</td>\n",
       "      <td id=\"T_031b0_row6_col3\" class=\"data row6 col3\" >0.688548</td>\n",
       "      <td id=\"T_031b0_row6_col4\" class=\"data row6 col4\" >0.817211</td>\n",
       "      <td id=\"T_031b0_row6_col5\" class=\"data row6 col5\" >0.444151</td>\n",
       "      <td id=\"T_031b0_row6_col6\" class=\"data row6 col6\" >0.575513</td>\n",
       "      <td id=\"T_031b0_row6_col7\" class=\"data row6 col7\" >0.696188</td>\n",
       "    </tr>\n",
       "  </tbody>\n",
       "</table>\n"
      ],
      "text/plain": [
       "<pandas.io.formats.style.Styler at 0x7f2214368550>"
      ]
     },
     "execution_count": 5,
     "metadata": {},
     "output_type": "execute_result"
    }
   ],
   "source": [
    "df.style.background_gradient(cmap='RdYlGn')"
   ]
  },
  {
   "cell_type": "code",
   "execution_count": 6,
   "id": "00f9d06c",
   "metadata": {
    "ExecuteTime": {
     "end_time": "2022-07-05T15:29:43.969433Z",
     "start_time": "2022-07-05T15:29:43.715245Z"
    },
    "scrolled": true
   },
   "outputs": [
    {
     "name": "stdout",
     "output_type": "stream",
     "text": [
      "\\begin{tabular}{lrrrrrrrr}\n",
      "\\toprule\n",
      "{} & \\multicolumn{4}{l}{weighted avg} & \\multicolumn{4}{l}{micro avg} \\\\\n",
      "{} &           precision &              recall &            f1-score &                 mAP &           precision &              recall &            f1-score &                 mAP \\\\\n",
      "\\midrule\n",
      "S1          & \\percentage{0.3796} & \\percentage{0.0806} & \\percentage{0.1186} & \\percentage{0.3279} & \\percentage{0.5549} & \\percentage{0.0806} & \\percentage{0.1407} & \\percentage{0.3511} \\\\\n",
      "S2          & \\percentage{0.7427} & \\percentage{0.4004} & \\percentage{0.4817} & \\percentage{0.6199} & \\percentage{0.7627} & \\percentage{0.4004} & \\percentage{0.5252} & \\percentage{0.6165} \\\\\n",
      "A           & \\percentage{0.7612} & \\percentage{0.3398} & \\percentage{0.4398} & \\percentage{0.6004} & \\percentage{0.7863} & \\percentage{0.3398} & \\percentage{0.4746} & \\percentage{0.5798} \\\\\n",
      "S1 + S2     & \\percentage{0.7460} & \\percentage{0.3932} & \\percentage{0.4740} & \\percentage{0.6206} & \\percentage{0.7758} & \\percentage{0.3932} & \\percentage{0.5219} & \\percentage{0.6010} \\\\\n",
      "A + S1      & \\percentage{0.7552} & \\percentage{0.3447} & \\percentage{0.4452} & \\percentage{0.5822} & \\percentage{0.7697} & \\percentage{0.3447} & \\percentage{0.4762} & \\percentage{0.5711} \\\\\n",
      "A + S2      & \\percentage{0.8089} & \\percentage{0.4486} & \\percentage{0.5440} & \\percentage{0.6908} & \\percentage{0.8146} & \\percentage{0.4486} & \\percentage{0.5786} & \\percentage{0.6941} \\\\\n",
      "A + S1 + S2 & \\percentage{0.8009} & \\percentage{0.4442} & \\percentage{0.5426} & \\percentage{0.6885} & \\percentage{0.8172} & \\percentage{0.4442} & \\percentage{0.5755} & \\percentage{0.6962} \\\\\n",
      "\\bottomrule\n",
      "\\end{tabular}\n",
      "\n"
     ]
    },
    {
     "name": "stderr",
     "output_type": "stream",
     "text": [
      "/tmp/ipykernel_2756018/3326367905.py:1: FutureWarning: In future versions `DataFrame.to_latex` is expected to utilise the base implementation of `Styler.to_latex` for formatting and rendering. The arguments signature may therefore change. It is recommended instead to use `DataFrame.style.to_latex` which also contains additional functionality.\n",
      "  print(df.to_latex(float_format=\"\\\\percentage{%.4f}\", escape=False))\n"
     ]
    }
   ],
   "source": [
    "print(df.to_latex(float_format=\"\\\\percentage{%.4f}\", escape=False))"
   ]
  },
  {
   "cell_type": "code",
   "execution_count": null,
   "id": "3bd48842",
   "metadata": {},
   "outputs": [],
   "source": []
  }
 ],
 "metadata": {
  "kernelspec": {
   "display_name": "Python 3 (ipykernel)",
   "language": "python",
   "name": "python3"
  },
  "language_info": {
   "codemirror_mode": {
    "name": "ipython",
    "version": 3
   },
   "file_extension": ".py",
   "mimetype": "text/x-python",
   "name": "python",
   "nbconvert_exporter": "python",
   "pygments_lexer": "ipython3",
   "version": "3.9.2"
  },
  "toc": {
   "base_numbering": 1,
   "nav_menu": {},
   "number_sections": true,
   "sideBar": true,
   "skip_h1_title": false,
   "title_cell": "Table of Contents",
   "title_sidebar": "Contents",
   "toc_cell": false,
   "toc_position": {
    "height": "calc(100% - 180px)",
    "left": "10px",
    "top": "150px",
    "width": "181px"
   },
   "toc_section_display": true,
   "toc_window_display": true
  }
 },
 "nbformat": 4,
 "nbformat_minor": 5
}
